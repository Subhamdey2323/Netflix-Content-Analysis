{
 "cells": [
  {
   "cell_type": "markdown",
   "id": "c9930071",
   "metadata": {},
   "source": [
    "# Netfix - Business Case Study"
   ]
  },
  {
   "cell_type": "markdown",
   "id": "66adfee3",
   "metadata": {},
   "source": [
    "## Business Problem\n",
    "Optimize content production and strategic business expansion for Netflix, a global streaming platform with over 222 million subscribers."
   ]
  },
  {
   "cell_type": "code",
   "execution_count": 1,
   "id": "c2899379",
   "metadata": {},
   "outputs": [],
   "source": [
    "## import necessary libraries\n",
    "import numpy as np\n",
    "import pandas as pd\n",
    "import matplotlib.pyplot as plt\n",
    "import seaborn as sns"
   ]
  },
  {
   "cell_type": "code",
   "execution_count": 2,
   "id": "53807218",
   "metadata": {},
   "outputs": [],
   "source": [
    "## Read the CSV file \"netflix.csv\" and store the data in a DataFrame called df\n",
    "data=pd.read_csv(\"netflix_movies.csv\")"
   ]
  },
  {
   "cell_type": "code",
   "execution_count": 3,
   "id": "86f5350b",
   "metadata": {},
   "outputs": [
    {
     "data": {
      "text/html": [
       "<div>\n",
       "<style scoped>\n",
       "    .dataframe tbody tr th:only-of-type {\n",
       "        vertical-align: middle;\n",
       "    }\n",
       "\n",
       "    .dataframe tbody tr th {\n",
       "        vertical-align: top;\n",
       "    }\n",
       "\n",
       "    .dataframe thead th {\n",
       "        text-align: right;\n",
       "    }\n",
       "</style>\n",
       "<table border=\"1\" class=\"dataframe\">\n",
       "  <thead>\n",
       "    <tr style=\"text-align: right;\">\n",
       "      <th></th>\n",
       "      <th>show_id</th>\n",
       "      <th>type</th>\n",
       "      <th>title</th>\n",
       "      <th>director</th>\n",
       "      <th>cast</th>\n",
       "      <th>country</th>\n",
       "      <th>date_added</th>\n",
       "      <th>release_year</th>\n",
       "      <th>rating</th>\n",
       "      <th>duration</th>\n",
       "      <th>listed_in</th>\n",
       "      <th>description</th>\n",
       "    </tr>\n",
       "  </thead>\n",
       "  <tbody>\n",
       "    <tr>\n",
       "      <th>0</th>\n",
       "      <td>s1</td>\n",
       "      <td>Movie</td>\n",
       "      <td>Dick Johnson Is Dead</td>\n",
       "      <td>Kirsten Johnson</td>\n",
       "      <td>NaN</td>\n",
       "      <td>United States</td>\n",
       "      <td>September 25, 2021</td>\n",
       "      <td>2020</td>\n",
       "      <td>PG-13</td>\n",
       "      <td>90 min</td>\n",
       "      <td>Documentaries</td>\n",
       "      <td>As her father nears the end of his life, filmm...</td>\n",
       "    </tr>\n",
       "    <tr>\n",
       "      <th>1</th>\n",
       "      <td>s2</td>\n",
       "      <td>TV Show</td>\n",
       "      <td>Blood &amp; Water</td>\n",
       "      <td>NaN</td>\n",
       "      <td>Ama Qamata, Khosi Ngema, Gail Mabalane, Thaban...</td>\n",
       "      <td>South Africa</td>\n",
       "      <td>September 24, 2021</td>\n",
       "      <td>2021</td>\n",
       "      <td>TV-MA</td>\n",
       "      <td>2 Seasons</td>\n",
       "      <td>International TV Shows, TV Dramas, TV Mysteries</td>\n",
       "      <td>After crossing paths at a party, a Cape Town t...</td>\n",
       "    </tr>\n",
       "    <tr>\n",
       "      <th>2</th>\n",
       "      <td>s3</td>\n",
       "      <td>TV Show</td>\n",
       "      <td>Ganglands</td>\n",
       "      <td>Julien Leclercq</td>\n",
       "      <td>Sami Bouajila, Tracy Gotoas, Samuel Jouy, Nabi...</td>\n",
       "      <td>NaN</td>\n",
       "      <td>September 24, 2021</td>\n",
       "      <td>2021</td>\n",
       "      <td>TV-MA</td>\n",
       "      <td>1 Season</td>\n",
       "      <td>Crime TV Shows, International TV Shows, TV Act...</td>\n",
       "      <td>To protect his family from a powerful drug lor...</td>\n",
       "    </tr>\n",
       "    <tr>\n",
       "      <th>3</th>\n",
       "      <td>s4</td>\n",
       "      <td>TV Show</td>\n",
       "      <td>Jailbirds New Orleans</td>\n",
       "      <td>NaN</td>\n",
       "      <td>NaN</td>\n",
       "      <td>NaN</td>\n",
       "      <td>September 24, 2021</td>\n",
       "      <td>2021</td>\n",
       "      <td>TV-MA</td>\n",
       "      <td>1 Season</td>\n",
       "      <td>Docuseries, Reality TV</td>\n",
       "      <td>Feuds, flirtations and toilet talk go down amo...</td>\n",
       "    </tr>\n",
       "    <tr>\n",
       "      <th>4</th>\n",
       "      <td>s5</td>\n",
       "      <td>TV Show</td>\n",
       "      <td>Kota Factory</td>\n",
       "      <td>NaN</td>\n",
       "      <td>Mayur More, Jitendra Kumar, Ranjan Raj, Alam K...</td>\n",
       "      <td>India</td>\n",
       "      <td>September 24, 2021</td>\n",
       "      <td>2021</td>\n",
       "      <td>TV-MA</td>\n",
       "      <td>2 Seasons</td>\n",
       "      <td>International TV Shows, Romantic TV Shows, TV ...</td>\n",
       "      <td>In a city of coaching centers known to train I...</td>\n",
       "    </tr>\n",
       "  </tbody>\n",
       "</table>\n",
       "</div>"
      ],
      "text/plain": [
       "  show_id     type                  title         director  \\\n",
       "0      s1    Movie   Dick Johnson Is Dead  Kirsten Johnson   \n",
       "1      s2  TV Show          Blood & Water              NaN   \n",
       "2      s3  TV Show              Ganglands  Julien Leclercq   \n",
       "3      s4  TV Show  Jailbirds New Orleans              NaN   \n",
       "4      s5  TV Show           Kota Factory              NaN   \n",
       "\n",
       "                                                cast        country  \\\n",
       "0                                                NaN  United States   \n",
       "1  Ama Qamata, Khosi Ngema, Gail Mabalane, Thaban...   South Africa   \n",
       "2  Sami Bouajila, Tracy Gotoas, Samuel Jouy, Nabi...            NaN   \n",
       "3                                                NaN            NaN   \n",
       "4  Mayur More, Jitendra Kumar, Ranjan Raj, Alam K...          India   \n",
       "\n",
       "           date_added  release_year rating   duration  \\\n",
       "0  September 25, 2021          2020  PG-13     90 min   \n",
       "1  September 24, 2021          2021  TV-MA  2 Seasons   \n",
       "2  September 24, 2021          2021  TV-MA   1 Season   \n",
       "3  September 24, 2021          2021  TV-MA   1 Season   \n",
       "4  September 24, 2021          2021  TV-MA  2 Seasons   \n",
       "\n",
       "                                           listed_in  \\\n",
       "0                                      Documentaries   \n",
       "1    International TV Shows, TV Dramas, TV Mysteries   \n",
       "2  Crime TV Shows, International TV Shows, TV Act...   \n",
       "3                             Docuseries, Reality TV   \n",
       "4  International TV Shows, Romantic TV Shows, TV ...   \n",
       "\n",
       "                                         description  \n",
       "0  As her father nears the end of his life, filmm...  \n",
       "1  After crossing paths at a party, a Cape Town t...  \n",
       "2  To protect his family from a powerful drug lor...  \n",
       "3  Feuds, flirtations and toilet talk go down amo...  \n",
       "4  In a city of coaching centers known to train I...  "
      ]
     },
     "execution_count": 3,
     "metadata": {},
     "output_type": "execute_result"
    }
   ],
   "source": [
    "## get the first five rows\n",
    "data.head()"
   ]
  },
  {
   "cell_type": "code",
   "execution_count": 4,
   "id": "11106aa7",
   "metadata": {},
   "outputs": [
    {
     "data": {
      "text/html": [
       "<div>\n",
       "<style scoped>\n",
       "    .dataframe tbody tr th:only-of-type {\n",
       "        vertical-align: middle;\n",
       "    }\n",
       "\n",
       "    .dataframe tbody tr th {\n",
       "        vertical-align: top;\n",
       "    }\n",
       "\n",
       "    .dataframe thead th {\n",
       "        text-align: right;\n",
       "    }\n",
       "</style>\n",
       "<table border=\"1\" class=\"dataframe\">\n",
       "  <thead>\n",
       "    <tr style=\"text-align: right;\">\n",
       "      <th></th>\n",
       "      <th>show_id</th>\n",
       "      <th>type</th>\n",
       "      <th>title</th>\n",
       "      <th>director</th>\n",
       "      <th>cast</th>\n",
       "      <th>country</th>\n",
       "      <th>date_added</th>\n",
       "      <th>release_year</th>\n",
       "      <th>rating</th>\n",
       "      <th>duration</th>\n",
       "      <th>listed_in</th>\n",
       "      <th>description</th>\n",
       "    </tr>\n",
       "  </thead>\n",
       "  <tbody>\n",
       "    <tr>\n",
       "      <th>8802</th>\n",
       "      <td>s8803</td>\n",
       "      <td>Movie</td>\n",
       "      <td>Zodiac</td>\n",
       "      <td>David Fincher</td>\n",
       "      <td>Mark Ruffalo, Jake Gyllenhaal, Robert Downey J...</td>\n",
       "      <td>United States</td>\n",
       "      <td>November 20, 2019</td>\n",
       "      <td>2007</td>\n",
       "      <td>R</td>\n",
       "      <td>158 min</td>\n",
       "      <td>Cult Movies, Dramas, Thrillers</td>\n",
       "      <td>A political cartoonist, a crime reporter and a...</td>\n",
       "    </tr>\n",
       "    <tr>\n",
       "      <th>8803</th>\n",
       "      <td>s8804</td>\n",
       "      <td>TV Show</td>\n",
       "      <td>Zombie Dumb</td>\n",
       "      <td>NaN</td>\n",
       "      <td>NaN</td>\n",
       "      <td>NaN</td>\n",
       "      <td>July 1, 2019</td>\n",
       "      <td>2018</td>\n",
       "      <td>TV-Y7</td>\n",
       "      <td>2 Seasons</td>\n",
       "      <td>Kids' TV, Korean TV Shows, TV Comedies</td>\n",
       "      <td>While living alone in a spooky town, a young g...</td>\n",
       "    </tr>\n",
       "    <tr>\n",
       "      <th>8804</th>\n",
       "      <td>s8805</td>\n",
       "      <td>Movie</td>\n",
       "      <td>Zombieland</td>\n",
       "      <td>Ruben Fleischer</td>\n",
       "      <td>Jesse Eisenberg, Woody Harrelson, Emma Stone, ...</td>\n",
       "      <td>United States</td>\n",
       "      <td>November 1, 2019</td>\n",
       "      <td>2009</td>\n",
       "      <td>R</td>\n",
       "      <td>88 min</td>\n",
       "      <td>Comedies, Horror Movies</td>\n",
       "      <td>Looking to survive in a world taken over by zo...</td>\n",
       "    </tr>\n",
       "    <tr>\n",
       "      <th>8805</th>\n",
       "      <td>s8806</td>\n",
       "      <td>Movie</td>\n",
       "      <td>Zoom</td>\n",
       "      <td>Peter Hewitt</td>\n",
       "      <td>Tim Allen, Courteney Cox, Chevy Chase, Kate Ma...</td>\n",
       "      <td>United States</td>\n",
       "      <td>January 11, 2020</td>\n",
       "      <td>2006</td>\n",
       "      <td>PG</td>\n",
       "      <td>88 min</td>\n",
       "      <td>Children &amp; Family Movies, Comedies</td>\n",
       "      <td>Dragged from civilian life, a former superhero...</td>\n",
       "    </tr>\n",
       "    <tr>\n",
       "      <th>8806</th>\n",
       "      <td>s8807</td>\n",
       "      <td>Movie</td>\n",
       "      <td>Zubaan</td>\n",
       "      <td>Mozez Singh</td>\n",
       "      <td>Vicky Kaushal, Sarah-Jane Dias, Raaghav Chanan...</td>\n",
       "      <td>India</td>\n",
       "      <td>March 2, 2019</td>\n",
       "      <td>2015</td>\n",
       "      <td>TV-14</td>\n",
       "      <td>111 min</td>\n",
       "      <td>Dramas, International Movies, Music &amp; Musicals</td>\n",
       "      <td>A scrappy but poor boy worms his way into a ty...</td>\n",
       "    </tr>\n",
       "  </tbody>\n",
       "</table>\n",
       "</div>"
      ],
      "text/plain": [
       "     show_id     type        title         director  \\\n",
       "8802   s8803    Movie       Zodiac    David Fincher   \n",
       "8803   s8804  TV Show  Zombie Dumb              NaN   \n",
       "8804   s8805    Movie   Zombieland  Ruben Fleischer   \n",
       "8805   s8806    Movie         Zoom     Peter Hewitt   \n",
       "8806   s8807    Movie       Zubaan      Mozez Singh   \n",
       "\n",
       "                                                   cast        country  \\\n",
       "8802  Mark Ruffalo, Jake Gyllenhaal, Robert Downey J...  United States   \n",
       "8803                                                NaN            NaN   \n",
       "8804  Jesse Eisenberg, Woody Harrelson, Emma Stone, ...  United States   \n",
       "8805  Tim Allen, Courteney Cox, Chevy Chase, Kate Ma...  United States   \n",
       "8806  Vicky Kaushal, Sarah-Jane Dias, Raaghav Chanan...          India   \n",
       "\n",
       "             date_added  release_year rating   duration  \\\n",
       "8802  November 20, 2019          2007      R    158 min   \n",
       "8803       July 1, 2019          2018  TV-Y7  2 Seasons   \n",
       "8804   November 1, 2019          2009      R     88 min   \n",
       "8805   January 11, 2020          2006     PG     88 min   \n",
       "8806      March 2, 2019          2015  TV-14    111 min   \n",
       "\n",
       "                                           listed_in  \\\n",
       "8802                  Cult Movies, Dramas, Thrillers   \n",
       "8803          Kids' TV, Korean TV Shows, TV Comedies   \n",
       "8804                         Comedies, Horror Movies   \n",
       "8805              Children & Family Movies, Comedies   \n",
       "8806  Dramas, International Movies, Music & Musicals   \n",
       "\n",
       "                                            description  \n",
       "8802  A political cartoonist, a crime reporter and a...  \n",
       "8803  While living alone in a spooky town, a young g...  \n",
       "8804  Looking to survive in a world taken over by zo...  \n",
       "8805  Dragged from civilian life, a former superhero...  \n",
       "8806  A scrappy but poor boy worms his way into a ty...  "
      ]
     },
     "execution_count": 4,
     "metadata": {},
     "output_type": "execute_result"
    }
   ],
   "source": [
    "## get the last 5 rows\n",
    "data.tail()"
   ]
  },
  {
   "cell_type": "code",
   "execution_count": 5,
   "id": "7b8a4d2f",
   "metadata": {},
   "outputs": [
    {
     "data": {
      "text/plain": [
       "(8807, 12)"
      ]
     },
     "execution_count": 5,
     "metadata": {},
     "output_type": "execute_result"
    }
   ],
   "source": [
    "## Get the shape of the DataFram\n",
    "data.shape"
   ]
  },
  {
   "cell_type": "markdown",
   "id": "b47bb681",
   "metadata": {},
   "source": [
    "## Observations after seeing the data -\n",
    "    1. Following columns are nested:\n",
    "\n",
    "        actor\n",
    "        director\n",
    "        country\n",
    "        listed_in\n",
    "    2. The dataset includes both movies and TV shows.\n",
    "\n",
    "    3. The duration of content varies:\n",
    "\n",
    "        Movie entries specify the duration in minutes.\n",
    "        TV shows mention the number of seasons."
   ]
  },
  {
   "cell_type": "code",
   "execution_count": 6,
   "id": "89180210",
   "metadata": {},
   "outputs": [
    {
     "data": {
      "text/html": [
       "<div>\n",
       "<style scoped>\n",
       "    .dataframe tbody tr th:only-of-type {\n",
       "        vertical-align: middle;\n",
       "    }\n",
       "\n",
       "    .dataframe tbody tr th {\n",
       "        vertical-align: top;\n",
       "    }\n",
       "\n",
       "    .dataframe thead th {\n",
       "        text-align: right;\n",
       "    }\n",
       "</style>\n",
       "<table border=\"1\" class=\"dataframe\">\n",
       "  <thead>\n",
       "    <tr style=\"text-align: right;\">\n",
       "      <th></th>\n",
       "      <th>show_id</th>\n",
       "      <th>type</th>\n",
       "      <th>title</th>\n",
       "      <th>director</th>\n",
       "      <th>cast</th>\n",
       "      <th>country</th>\n",
       "      <th>date_added</th>\n",
       "      <th>release_year</th>\n",
       "      <th>rating</th>\n",
       "      <th>duration</th>\n",
       "      <th>listed_in</th>\n",
       "      <th>description</th>\n",
       "    </tr>\n",
       "  </thead>\n",
       "  <tbody>\n",
       "    <tr>\n",
       "      <th>count</th>\n",
       "      <td>8807</td>\n",
       "      <td>8807</td>\n",
       "      <td>8807</td>\n",
       "      <td>6173</td>\n",
       "      <td>7982</td>\n",
       "      <td>7976</td>\n",
       "      <td>8797</td>\n",
       "      <td>8807.000000</td>\n",
       "      <td>8803</td>\n",
       "      <td>8804</td>\n",
       "      <td>8807</td>\n",
       "      <td>8807</td>\n",
       "    </tr>\n",
       "    <tr>\n",
       "      <th>unique</th>\n",
       "      <td>8807</td>\n",
       "      <td>2</td>\n",
       "      <td>8804</td>\n",
       "      <td>4528</td>\n",
       "      <td>7692</td>\n",
       "      <td>748</td>\n",
       "      <td>1767</td>\n",
       "      <td>NaN</td>\n",
       "      <td>17</td>\n",
       "      <td>220</td>\n",
       "      <td>514</td>\n",
       "      <td>8775</td>\n",
       "    </tr>\n",
       "    <tr>\n",
       "      <th>top</th>\n",
       "      <td>s1</td>\n",
       "      <td>Movie</td>\n",
       "      <td>15-Aug</td>\n",
       "      <td>Rajiv Chilaka</td>\n",
       "      <td>David Attenborough</td>\n",
       "      <td>United States</td>\n",
       "      <td>January 1, 2020</td>\n",
       "      <td>NaN</td>\n",
       "      <td>TV-MA</td>\n",
       "      <td>1 Season</td>\n",
       "      <td>Dramas, International Movies</td>\n",
       "      <td>Paranormal activity at a lush, abandoned prope...</td>\n",
       "    </tr>\n",
       "    <tr>\n",
       "      <th>freq</th>\n",
       "      <td>1</td>\n",
       "      <td>6131</td>\n",
       "      <td>2</td>\n",
       "      <td>19</td>\n",
       "      <td>19</td>\n",
       "      <td>2818</td>\n",
       "      <td>109</td>\n",
       "      <td>NaN</td>\n",
       "      <td>3207</td>\n",
       "      <td>1793</td>\n",
       "      <td>362</td>\n",
       "      <td>4</td>\n",
       "    </tr>\n",
       "    <tr>\n",
       "      <th>mean</th>\n",
       "      <td>NaN</td>\n",
       "      <td>NaN</td>\n",
       "      <td>NaN</td>\n",
       "      <td>NaN</td>\n",
       "      <td>NaN</td>\n",
       "      <td>NaN</td>\n",
       "      <td>NaN</td>\n",
       "      <td>2014.180198</td>\n",
       "      <td>NaN</td>\n",
       "      <td>NaN</td>\n",
       "      <td>NaN</td>\n",
       "      <td>NaN</td>\n",
       "    </tr>\n",
       "    <tr>\n",
       "      <th>std</th>\n",
       "      <td>NaN</td>\n",
       "      <td>NaN</td>\n",
       "      <td>NaN</td>\n",
       "      <td>NaN</td>\n",
       "      <td>NaN</td>\n",
       "      <td>NaN</td>\n",
       "      <td>NaN</td>\n",
       "      <td>8.819312</td>\n",
       "      <td>NaN</td>\n",
       "      <td>NaN</td>\n",
       "      <td>NaN</td>\n",
       "      <td>NaN</td>\n",
       "    </tr>\n",
       "    <tr>\n",
       "      <th>min</th>\n",
       "      <td>NaN</td>\n",
       "      <td>NaN</td>\n",
       "      <td>NaN</td>\n",
       "      <td>NaN</td>\n",
       "      <td>NaN</td>\n",
       "      <td>NaN</td>\n",
       "      <td>NaN</td>\n",
       "      <td>1925.000000</td>\n",
       "      <td>NaN</td>\n",
       "      <td>NaN</td>\n",
       "      <td>NaN</td>\n",
       "      <td>NaN</td>\n",
       "    </tr>\n",
       "    <tr>\n",
       "      <th>25%</th>\n",
       "      <td>NaN</td>\n",
       "      <td>NaN</td>\n",
       "      <td>NaN</td>\n",
       "      <td>NaN</td>\n",
       "      <td>NaN</td>\n",
       "      <td>NaN</td>\n",
       "      <td>NaN</td>\n",
       "      <td>2013.000000</td>\n",
       "      <td>NaN</td>\n",
       "      <td>NaN</td>\n",
       "      <td>NaN</td>\n",
       "      <td>NaN</td>\n",
       "    </tr>\n",
       "    <tr>\n",
       "      <th>50%</th>\n",
       "      <td>NaN</td>\n",
       "      <td>NaN</td>\n",
       "      <td>NaN</td>\n",
       "      <td>NaN</td>\n",
       "      <td>NaN</td>\n",
       "      <td>NaN</td>\n",
       "      <td>NaN</td>\n",
       "      <td>2017.000000</td>\n",
       "      <td>NaN</td>\n",
       "      <td>NaN</td>\n",
       "      <td>NaN</td>\n",
       "      <td>NaN</td>\n",
       "    </tr>\n",
       "    <tr>\n",
       "      <th>75%</th>\n",
       "      <td>NaN</td>\n",
       "      <td>NaN</td>\n",
       "      <td>NaN</td>\n",
       "      <td>NaN</td>\n",
       "      <td>NaN</td>\n",
       "      <td>NaN</td>\n",
       "      <td>NaN</td>\n",
       "      <td>2019.000000</td>\n",
       "      <td>NaN</td>\n",
       "      <td>NaN</td>\n",
       "      <td>NaN</td>\n",
       "      <td>NaN</td>\n",
       "    </tr>\n",
       "    <tr>\n",
       "      <th>max</th>\n",
       "      <td>NaN</td>\n",
       "      <td>NaN</td>\n",
       "      <td>NaN</td>\n",
       "      <td>NaN</td>\n",
       "      <td>NaN</td>\n",
       "      <td>NaN</td>\n",
       "      <td>NaN</td>\n",
       "      <td>2021.000000</td>\n",
       "      <td>NaN</td>\n",
       "      <td>NaN</td>\n",
       "      <td>NaN</td>\n",
       "      <td>NaN</td>\n",
       "    </tr>\n",
       "  </tbody>\n",
       "</table>\n",
       "</div>"
      ],
      "text/plain": [
       "       show_id   type   title       director                cast  \\\n",
       "count     8807   8807    8807           6173                7982   \n",
       "unique    8807      2    8804           4528                7692   \n",
       "top         s1  Movie  15-Aug  Rajiv Chilaka  David Attenborough   \n",
       "freq         1   6131       2             19                  19   \n",
       "mean       NaN    NaN     NaN            NaN                 NaN   \n",
       "std        NaN    NaN     NaN            NaN                 NaN   \n",
       "min        NaN    NaN     NaN            NaN                 NaN   \n",
       "25%        NaN    NaN     NaN            NaN                 NaN   \n",
       "50%        NaN    NaN     NaN            NaN                 NaN   \n",
       "75%        NaN    NaN     NaN            NaN                 NaN   \n",
       "max        NaN    NaN     NaN            NaN                 NaN   \n",
       "\n",
       "              country       date_added  release_year rating  duration  \\\n",
       "count            7976             8797   8807.000000   8803      8804   \n",
       "unique            748             1767           NaN     17       220   \n",
       "top     United States  January 1, 2020           NaN  TV-MA  1 Season   \n",
       "freq             2818              109           NaN   3207      1793   \n",
       "mean              NaN              NaN   2014.180198    NaN       NaN   \n",
       "std               NaN              NaN      8.819312    NaN       NaN   \n",
       "min               NaN              NaN   1925.000000    NaN       NaN   \n",
       "25%               NaN              NaN   2013.000000    NaN       NaN   \n",
       "50%               NaN              NaN   2017.000000    NaN       NaN   \n",
       "75%               NaN              NaN   2019.000000    NaN       NaN   \n",
       "max               NaN              NaN   2021.000000    NaN       NaN   \n",
       "\n",
       "                           listed_in  \\\n",
       "count                           8807   \n",
       "unique                           514   \n",
       "top     Dramas, International Movies   \n",
       "freq                             362   \n",
       "mean                             NaN   \n",
       "std                              NaN   \n",
       "min                              NaN   \n",
       "25%                              NaN   \n",
       "50%                              NaN   \n",
       "75%                              NaN   \n",
       "max                              NaN   \n",
       "\n",
       "                                              description  \n",
       "count                                                8807  \n",
       "unique                                               8775  \n",
       "top     Paranormal activity at a lush, abandoned prope...  \n",
       "freq                                                    4  \n",
       "mean                                                  NaN  \n",
       "std                                                   NaN  \n",
       "min                                                   NaN  \n",
       "25%                                                   NaN  \n",
       "50%                                                   NaN  \n",
       "75%                                                   NaN  \n",
       "max                                                   NaN  "
      ]
     },
     "execution_count": 6,
     "metadata": {},
     "output_type": "execute_result"
    }
   ],
   "source": [
    "## Generate descriptive statistics for all columns in the DataFrame, including both numerical and categorical data\n",
    "data.describe(include='all')"
   ]
  },
  {
   "cell_type": "code",
   "execution_count": 7,
   "id": "8bb1640c",
   "metadata": {},
   "outputs": [
    {
     "name": "stdout",
     "output_type": "stream",
     "text": [
      "<class 'pandas.core.frame.DataFrame'>\n",
      "RangeIndex: 8807 entries, 0 to 8806\n",
      "Data columns (total 12 columns):\n",
      " #   Column        Non-Null Count  Dtype \n",
      "---  ------        --------------  ----- \n",
      " 0   show_id       8807 non-null   object\n",
      " 1   type          8807 non-null   object\n",
      " 2   title         8807 non-null   object\n",
      " 3   director      6173 non-null   object\n",
      " 4   cast          7982 non-null   object\n",
      " 5   country       7976 non-null   object\n",
      " 6   date_added    8797 non-null   object\n",
      " 7   release_year  8807 non-null   int64 \n",
      " 8   rating        8803 non-null   object\n",
      " 9   duration      8804 non-null   object\n",
      " 10  listed_in     8807 non-null   object\n",
      " 11  description   8807 non-null   object\n",
      "dtypes: int64(1), object(11)\n",
      "memory usage: 825.8+ KB\n"
     ]
    }
   ],
   "source": [
    "## Display a concise summary of the DataFrame, including the column names, data types, and non-null values\n",
    "data.info()"
   ]
  },
  {
   "cell_type": "markdown",
   "id": "e1acac35",
   "metadata": {},
   "source": [
    "## Observations -\n",
    "    1. Most of the entries are movies.\n",
    "\n",
    "    2. The cast count and cast unique values are the same, which may be due to the nested data. (We will explore this later)\n",
    "\n",
    "    3. The top duration is 1 Season, indicating that most TV shows have only 1 season.\n",
    "\n",
    "    4. 25% of the total data belongs to the years 2019-2021, while another 25% belongs to the years 1925-2013.\n",
    "\n",
    "    Insight: Netflix should add the latest movies and TV shows to attract more customers.\n",
    "\n",
    "    5. Show_id and Title are the unique factors.\n",
    "\n",
    "    6. The \"Type\" and \"Rating\" columns need to be changed to categorical data.\n",
    "\n",
    "    7. \"United States\" has the maximum content available.\n",
    "\n",
    "    We will unnest the data in the coming steps, which will provide us with a clearer idea of the observations."
   ]
  },
  {
   "cell_type": "code",
   "execution_count": 8,
   "id": "59a1cee6",
   "metadata": {},
   "outputs": [
    {
     "data": {
      "text/plain": [
       "show_id            0\n",
       "type               0\n",
       "title              0\n",
       "director        2634\n",
       "cast             825\n",
       "country          831\n",
       "date_added        10\n",
       "release_year       0\n",
       "rating             4\n",
       "duration           3\n",
       "listed_in          0\n",
       "description        0\n",
       "dtype: int64"
      ]
     },
     "execution_count": 8,
     "metadata": {},
     "output_type": "execute_result"
    }
   ],
   "source": [
    "## Missing value detection\n",
    "data.isnull().sum()"
   ]
  },
  {
   "cell_type": "markdown",
   "id": "510a282e",
   "metadata": {},
   "source": [
    "## There are missing values for the attributes:\n",
    "\n",
    "<li>Director\n",
    "<li>Cast\n",
    "<li>Country\n",
    "\n",
    "However, attributes like Date_added, Rating, and Duration have fewer missing values compare to the upper attributes."
   ]
  },
  {
   "cell_type": "code",
   "execution_count": 9,
   "id": "4181a084",
   "metadata": {},
   "outputs": [
    {
     "data": {
      "text/plain": [
       "show_id          0.000000\n",
       "type             0.000000\n",
       "title            0.000000\n",
       "director        29.908028\n",
       "cast             9.367549\n",
       "country          9.435676\n",
       "date_added       0.113546\n",
       "release_year     0.000000\n",
       "rating           0.045418\n",
       "duration         0.034064\n",
       "listed_in        0.000000\n",
       "description      0.000000\n",
       "dtype: float64"
      ]
     },
     "execution_count": 9,
     "metadata": {},
     "output_type": "execute_result"
    }
   ],
   "source": [
    "## calculate the percentage value of the missing values\n",
    "data.isnull().sum()/len(data)*100"
   ]
  },
  {
   "cell_type": "markdown",
   "id": "100f3e6d",
   "metadata": {},
   "source": [
    "As we can see approxiamtely 30% values in the Director column are missing , we cannot drop this much data. Also - its not a numerical column, in this case we need to fill the data with \"Unknown\"."
   ]
  },
  {
   "cell_type": "code",
   "execution_count": 10,
   "id": "25008916",
   "metadata": {},
   "outputs": [],
   "source": [
    "## Fill missing values in the \"director\", \"cast\", and \"country\" columns with the string \"Unknown\"\n",
    "data[[\"director\",\"cast\",\"country\"]]=data[[\"director\",\"cast\",\"country\"]].fillna(\"Unknown\")"
   ]
  },
  {
   "cell_type": "code",
   "execution_count": 11,
   "id": "d5fc864b",
   "metadata": {},
   "outputs": [
    {
     "data": {
      "text/plain": [
       "show_id          0\n",
       "type             0\n",
       "title            0\n",
       "director         0\n",
       "cast             0\n",
       "country          0\n",
       "date_added      10\n",
       "release_year     0\n",
       "rating           4\n",
       "duration         3\n",
       "listed_in        0\n",
       "description      0\n",
       "dtype: int64"
      ]
     },
     "execution_count": 11,
     "metadata": {},
     "output_type": "execute_result"
    }
   ],
   "source": [
    "data.isnull().sum()"
   ]
  },
  {
   "cell_type": "code",
   "execution_count": 12,
   "id": "fe344b52",
   "metadata": {},
   "outputs": [],
   "source": [
    "## since the missing values are very less we can drop those rows.\n",
    "data.dropna(inplace=True)"
   ]
  },
  {
   "cell_type": "code",
   "execution_count": 13,
   "id": "d0c5c767",
   "metadata": {},
   "outputs": [
    {
     "data": {
      "text/plain": [
       "show_id         0\n",
       "type            0\n",
       "title           0\n",
       "director        0\n",
       "cast            0\n",
       "country         0\n",
       "date_added      0\n",
       "release_year    0\n",
       "rating          0\n",
       "duration        0\n",
       "listed_in       0\n",
       "description     0\n",
       "dtype: int64"
      ]
     },
     "execution_count": 13,
     "metadata": {},
     "output_type": "execute_result"
    }
   ],
   "source": [
    "data.isna().sum()"
   ]
  },
  {
   "cell_type": "code",
   "execution_count": 14,
   "id": "b34b923f",
   "metadata": {},
   "outputs": [
    {
     "data": {
      "text/plain": [
       "0"
      ]
     },
     "execution_count": 14,
     "metadata": {},
     "output_type": "execute_result"
    }
   ],
   "source": [
    "data.duplicated().sum()"
   ]
  },
  {
   "cell_type": "markdown",
   "id": "67363f3a",
   "metadata": {},
   "source": [
    "Now the dataset has completely free from null and duplicate values"
   ]
  },
  {
   "cell_type": "code",
   "execution_count": 15,
   "id": "3281b87a",
   "metadata": {},
   "outputs": [
    {
     "data": {
      "text/plain": [
       "rating\n",
       "TV-MA       3205\n",
       "TV-14       2157\n",
       "TV-PG        861\n",
       "R            799\n",
       "PG-13        490\n",
       "TV-Y7        333\n",
       "TV-Y         306\n",
       "PG           287\n",
       "TV-G         220\n",
       "NR            79\n",
       "G             41\n",
       "TV-Y7-FV       6\n",
       "NC-17          3\n",
       "UR             3\n",
       "Name: count, dtype: int64"
      ]
     },
     "execution_count": 15,
     "metadata": {},
     "output_type": "execute_result"
    }
   ],
   "source": [
    "## Count the occurrences of each unique value in the \"rating\" column\n",
    "data[\"rating\"].value_counts()"
   ]
  },
  {
   "cell_type": "markdown",
   "id": "7cc19af6",
   "metadata": {},
   "source": [
    "## Univariate Analysis"
   ]
  },
  {
   "cell_type": "code",
   "execution_count": 16,
   "id": "b3a9dd9a",
   "metadata": {},
   "outputs": [
    {
     "data": {
      "text/html": [
       "<div>\n",
       "<style scoped>\n",
       "    .dataframe tbody tr th:only-of-type {\n",
       "        vertical-align: middle;\n",
       "    }\n",
       "\n",
       "    .dataframe tbody tr th {\n",
       "        vertical-align: top;\n",
       "    }\n",
       "\n",
       "    .dataframe thead th {\n",
       "        text-align: right;\n",
       "    }\n",
       "</style>\n",
       "<table border=\"1\" class=\"dataframe\">\n",
       "  <thead>\n",
       "    <tr style=\"text-align: right;\">\n",
       "      <th></th>\n",
       "      <th>show_id</th>\n",
       "      <th>type</th>\n",
       "      <th>title</th>\n",
       "      <th>director</th>\n",
       "      <th>cast</th>\n",
       "      <th>country</th>\n",
       "      <th>date_added</th>\n",
       "      <th>release_year</th>\n",
       "      <th>rating</th>\n",
       "      <th>duration</th>\n",
       "      <th>listed_in</th>\n",
       "      <th>description</th>\n",
       "    </tr>\n",
       "  </thead>\n",
       "  <tbody>\n",
       "    <tr>\n",
       "      <th>0</th>\n",
       "      <td>s1</td>\n",
       "      <td>Movie</td>\n",
       "      <td>Dick Johnson Is Dead</td>\n",
       "      <td>Kirsten Johnson</td>\n",
       "      <td>Unknown</td>\n",
       "      <td>United States</td>\n",
       "      <td>September 25, 2021</td>\n",
       "      <td>2020</td>\n",
       "      <td>PG-13</td>\n",
       "      <td>90 min</td>\n",
       "      <td>Documentaries</td>\n",
       "      <td>As her father nears the end of his life, filmm...</td>\n",
       "    </tr>\n",
       "    <tr>\n",
       "      <th>1</th>\n",
       "      <td>s2</td>\n",
       "      <td>TV Show</td>\n",
       "      <td>Blood &amp; Water</td>\n",
       "      <td>Unknown</td>\n",
       "      <td>Ama Qamata, Khosi Ngema, Gail Mabalane, Thaban...</td>\n",
       "      <td>South Africa</td>\n",
       "      <td>September 24, 2021</td>\n",
       "      <td>2021</td>\n",
       "      <td>TV-MA</td>\n",
       "      <td>2 Seasons</td>\n",
       "      <td>International TV Shows, TV Dramas, TV Mysteries</td>\n",
       "      <td>After crossing paths at a party, a Cape Town t...</td>\n",
       "    </tr>\n",
       "    <tr>\n",
       "      <th>2</th>\n",
       "      <td>s3</td>\n",
       "      <td>TV Show</td>\n",
       "      <td>Ganglands</td>\n",
       "      <td>Julien Leclercq</td>\n",
       "      <td>Sami Bouajila, Tracy Gotoas, Samuel Jouy, Nabi...</td>\n",
       "      <td>Unknown</td>\n",
       "      <td>September 24, 2021</td>\n",
       "      <td>2021</td>\n",
       "      <td>TV-MA</td>\n",
       "      <td>1 Season</td>\n",
       "      <td>Crime TV Shows, International TV Shows, TV Act...</td>\n",
       "      <td>To protect his family from a powerful drug lor...</td>\n",
       "    </tr>\n",
       "  </tbody>\n",
       "</table>\n",
       "</div>"
      ],
      "text/plain": [
       "  show_id     type                 title         director  \\\n",
       "0      s1    Movie  Dick Johnson Is Dead  Kirsten Johnson   \n",
       "1      s2  TV Show         Blood & Water          Unknown   \n",
       "2      s3  TV Show             Ganglands  Julien Leclercq   \n",
       "\n",
       "                                                cast        country  \\\n",
       "0                                            Unknown  United States   \n",
       "1  Ama Qamata, Khosi Ngema, Gail Mabalane, Thaban...   South Africa   \n",
       "2  Sami Bouajila, Tracy Gotoas, Samuel Jouy, Nabi...        Unknown   \n",
       "\n",
       "           date_added  release_year rating   duration  \\\n",
       "0  September 25, 2021          2020  PG-13     90 min   \n",
       "1  September 24, 2021          2021  TV-MA  2 Seasons   \n",
       "2  September 24, 2021          2021  TV-MA   1 Season   \n",
       "\n",
       "                                           listed_in  \\\n",
       "0                                      Documentaries   \n",
       "1    International TV Shows, TV Dramas, TV Mysteries   \n",
       "2  Crime TV Shows, International TV Shows, TV Act...   \n",
       "\n",
       "                                         description  \n",
       "0  As her father nears the end of his life, filmm...  \n",
       "1  After crossing paths at a party, a Cape Town t...  \n",
       "2  To protect his family from a powerful drug lor...  "
      ]
     },
     "execution_count": 16,
     "metadata": {},
     "output_type": "execute_result"
    }
   ],
   "source": [
    "data1=data.copy(deep=True)\n",
    "data1.head(3)"
   ]
  },
  {
   "cell_type": "code",
   "execution_count": 17,
   "id": "8a24ddeb",
   "metadata": {},
   "outputs": [],
   "source": [
    "# Ensure the date_added column is in datetime format\n",
    "data['date_added'] = pd.to_datetime(data['date_added'], errors='coerce') \n",
    "\n",
    "## Extract year, month, and weekday information from the \"date_added\" column and add them as new columns\n",
    "data1['Year'] = data['date_added'].dt.year\n",
    "data1['Month'] = data['date_added'].dt.month \n",
    "data1['Day'] = data['date_added'].dt.day_name()"
   ]
  },
  {
   "cell_type": "code",
   "execution_count": 18,
   "id": "20fc490d",
   "metadata": {},
   "outputs": [
    {
     "data": {
      "image/png": "[encoded data removed]",
      "text/plain": [
       "<Figure size 640x480 with 1 Axes>"
      ]
     },
     "metadata": {},
     "output_type": "display_data"
    }
   ],
   "source": [
    "## Create a countplot to count the number of movies and TV shows available\n",
    "sns.countplot(x=\"type\", data=data1)\n",
    "plt.title(\"Number of Movies and TV Shows\")\n",
    "plt.show()"
   ]
  },
  {
   "cell_type": "markdown",
   "id": "29299376",
   "metadata": {},
   "source": [
    "From the above we can see that there is immense Difference Between the Count of Movies and TV Shows"
   ]
  },
  {
   "cell_type": "code",
   "execution_count": 19,
   "id": "9406dc3b",
   "metadata": {},
   "outputs": [
    {
     "data": {
      "image/png": "[encoded data removed]",
      "text/plain": [
       "<Figure size 1200x600 with 2 Axes>"
      ]
     },
     "metadata": {},
     "output_type": "display_data"
    }
   ],
   "source": [
    "# Extract movie durations\n",
    "movie_durations = data.loc[data[\"duration\"].str.contains(\"min\") == True, \"duration\"].apply(lambda x: int(x.split()[0]))\n",
    "\n",
    "# Extract TV show durations\n",
    "tv_show_seasons = data.loc[data[\"duration\"].str.contains(\"Season\") == True, \"duration\"].apply(lambda x: int(x.split()[0]))\n",
    "\n",
    "# Set the color palette\n",
    "colors = ['#FF6F61', '#6B5B95']\n",
    "\n",
    "# Create a figure with two subplots\n",
    "fig, axes = plt.subplots(1, 2, figsize=(12, 6))\n",
    "\n",
    "# Box plot for movie durations\n",
    "sns.boxplot(y=movie_durations, ax=axes[0], color=colors[0])\n",
    "axes[0].set_title(\"Distribution of Movie Durations\")\n",
    "axes[0].set_ylabel(\"Duration\")\n",
    "\n",
    "# Violin plot for TV show seasons\n",
    "sns.violinplot(y=tv_show_seasons, ax=axes[1], color=colors[1])\n",
    "axes[1].set_title(\"Distribution of Number of Seasons in TV Shows\")\n",
    "axes[1].set_ylabel(\"Seasons\")\n",
    "\n",
    "plt.tight_layout(pad=3)\n",
    "plt.show()"
   ]
  },
  {
   "cell_type": "markdown",
   "id": "05bda380",
   "metadata": {},
   "source": [
    "Conclusion -\n",
    "1. Average duration of movies is around 100 minutes.\n",
    "2. TV shows mostly have 1 or 2 seasons.\n",
    "3. There are a lot of outliers present in movies compared to TV shows."
   ]
  },
  {
   "cell_type": "code",
   "execution_count": 20,
   "id": "ac650cd5",
   "metadata": {},
   "outputs": [
    {
     "data": {
      "image/png": "[encoded data removed]",
      "text/plain": [
       "<Figure size 2000x800 with 1 Axes>"
      ]
     },
     "metadata": {},
     "output_type": "display_data"
    }
   ],
   "source": [
    "## Filter the DataFrame to include only TV shows with season information in the \"duration\" column and count the occurrences of each value\n",
    "\n",
    "df_TV_season = data.loc[data[\"duration\"].str.contains(\"Season\") == True, \"duration\"].value_counts().reset_index()[:10] \n",
    "df_TV_season.columns = [\"No_of_seasons\", \"Count\"]\n",
    "plt.figure(figsize=(20, 8))\n",
    "sns.barplot(y=\"No_of_seasons\", x=\"Count\", data=df_TV_season) \n",
    "plt.title(\"Count of TV Shows by Number of Seasons\")\n",
    "plt.show()"
   ]
  },
  {
   "cell_type": "markdown",
   "id": "abe5cb19",
   "metadata": {},
   "source": [
    "Mostly TV shows have only one season."
   ]
  },
  {
   "cell_type": "markdown",
   "id": "c02a2a60",
   "metadata": {},
   "source": [
    "## Bivariate Analysis"
   ]
  },
  {
   "cell_type": "code",
   "execution_count": 21,
   "id": "7ae3c08c",
   "metadata": {},
   "outputs": [],
   "source": [
    "# Create a new DataFrame based on the original DataFrame\n",
    "df_datetime = pd.DataFrame(data)\n",
    "\n",
    "# Extract year, month, and day information from the \"date_added\" column and add them as new columns\n",
    "df_datetime['Year'] = data.date_added.dt.year\n",
    "df_datetime['month'] = data.date_added.dt.month\n",
    "df_datetime['day'] = data.date_added.dt.day_name()\n",
    "\n",
    "# Sort the DataFrame by month\n",
    "df_datetime_month = df_datetime.sort_values(by=\"month\")\n",
    "\n",
    "# Add a new column for month names\n",
    "df_datetime_month['month_name'] = data.date_added.dt.month_name()"
   ]
  },
  {
   "cell_type": "markdown",
   "id": "667e9fc8",
   "metadata": {},
   "source": [
    "## Analysis of number of content added on Netflix over the period\n"
   ]
  },
  {
   "cell_type": "code",
   "execution_count": 22,
   "id": "f95353fe",
   "metadata": {},
   "outputs": [
    {
     "data": {
      "image/png": "[encoded data removed]",
      "text/plain": [
       "<Figure size 2000x800 with 1 Axes>"
      ]
     },
     "metadata": {},
     "output_type": "display_data"
    }
   ],
   "source": [
    "# Define the figure size for the plot\n",
    "plt.figure(figsize=(20, 8))\n",
    "\n",
    "# Create a countplot to visualize the number of movies and TV shows added monthwise\n",
    "sns.countplot(x=\"month_name\", data=df_datetime_month, hue=\"type\")\n",
    "\n",
    "plt.title(\"Number of Movies and TV Shows Added Monthwise\")\n",
    "plt.legend(loc=(1.01, 0.5))\n",
    "plt.show()"
   ]
  },
  {
   "cell_type": "markdown",
   "id": "8f473810",
   "metadata": {},
   "source": [
    "Conclusion:\n",
    "1. July and December are the months when the most content was added, as the number of TV shows during these two months is the highest among all.\n",
    "2. The number of movies added per month is greater than the number of TV shows added per month."
   ]
  },
  {
   "cell_type": "code",
   "execution_count": 23,
   "id": "90106a17",
   "metadata": {},
   "outputs": [
    {
     "data": {
      "image/png": "[encoded data removed]",
      "text/plain": [
       "<Figure size 2000x800 with 1 Axes>"
      ]
     },
     "metadata": {},
     "output_type": "display_data"
    }
   ],
   "source": [
    "# Define the figure size for the plot\n",
    "plt.figure(figsize=(20, 8))\n",
    "\n",
    "# Filter the DataFrame to include only movies and TV shows released after 2000\n",
    "df_year = data.loc[data['release_year'] > 2000]\n",
    "\n",
    "# Create a countplot to visualize the number of movies and TV shows added yearwise\n",
    "sns.countplot(x='release_year', data=df_year, hue='type')\n",
    "\n",
    "# Set the title of the plot\n",
    "plt.title(\"Number of Movies and TV Shows Added Yearwise\")\n",
    "\n",
    "# Display the plot\n",
    "plt.show()"
   ]
  },
  {
   "cell_type": "markdown",
   "id": "b0053c74",
   "metadata": {},
   "source": [
    "Conclusion:\n",
    "1. In 2020, the maximum number of TV shows were added, followed by 2019 and 2021.\n",
    "2. The number of movies added on Netflix increased significantly after \"2015\".\n",
    "3. We can observe a significant drop in the count of movies added in 2021, which may be attributed to the COVID-19 pandemic."
   ]
  },
  {
   "cell_type": "code",
   "execution_count": 24,
   "id": "272ba499",
   "metadata": {},
   "outputs": [
    {
     "data": {
      "image/png": "[encoded data removed]",
      "text/plain": [
       "<Figure size 1500x800 with 1 Axes>"
      ]
     },
     "metadata": {},
     "output_type": "display_data"
    }
   ],
   "source": [
    "# Define the figure size for the plot\n",
    "plt.figure(figsize=(15, 8))\n",
    "\n",
    "# Create a countplot to visualize the number of movies and TV shows added daywise\n",
    "sns.countplot(x=\"day\", data=df_datetime, hue=\"type\", order=[\"Monday\", \"Tuesday\", \"Wednesday\", \"Thursday\", \"Friday\", \"Saturday\", \"Sunday\"])\n",
    "\n",
    "# Set the title of the plot\n",
    "plt.title(\"Number of Movies and TV Shows Added Daywise\")\n",
    "\n",
    "# Display the plot\n",
    "plt.show()"
   ]
  },
  {
   "cell_type": "markdown",
   "id": "a672c146",
   "metadata": {},
   "source": [
    "Conclusion:\n",
    "<LI>Most of the content is added on Netflix on \"Friday\", followed by Thursday, as the weekend approaches after these days."
   ]
  },
  {
   "cell_type": "code",
   "execution_count": 25,
   "id": "f7014f25",
   "metadata": {},
   "outputs": [
    {
     "name": "stdout",
     "output_type": "stream",
     "text": [
      "PG-13 -----> Parental Guidance with Adult Themes[Parental Guidance]\n",
      "TV-MA -----> Mature Audience[Only for Adults]\n",
      "PG -----> Parental Guidance without Adult Themes[Parental Guidance]\n",
      "TV-14 -----> Contents with Parents strongly cautioned.\n",
      "TV-PG -----> Parental guide suggested[Parental Guidance]\n",
      "TV-Y -----> Children suited content[General Audience & Kids]\n",
      "TV-Y7 -----> Children of age 7 and older[General Audience & Kids]\n",
      "R -----> Strictly for Adults[Only for Adults]\n",
      "TV-G -----> Suitable for all audiences[General Audience & Kids]\n",
      "G -----> General Audience films[General Audience & Kids]\n",
      "NC-17 -----> No one seventeen and under admitted[Only for Adults]\n",
      "NR -----> Not rated movies[Not Rated]\n",
      "TV-Y7-FV -----> Children of age 7 and older with fantasy violence[General Audience & Kids]\n",
      "UR -----> Recut version of rated movie[Not Rated]\n"
     ]
    },
    {
     "data": {
      "image/png": "[encoded data removed]",
      "text/plain": [
       "<Figure size 2000x800 with 1 Axes>"
      ]
     },
     "metadata": {},
     "output_type": "display_data"
    }
   ],
   "source": [
    "# Print the explanation of each rating category\n",
    "print('PG-13 -----> Parental Guidance with Adult Themes[Parental Guidance]',\n",
    "      'TV-MA -----> Mature Audience[Only for Adults]',\n",
    "      'PG -----> Parental Guidance without Adult Themes[Parental Guidance]',\n",
    "      'TV-14 -----> Contents with Parents strongly cautioned.',\n",
    "      'TV-PG -----> Parental guide suggested[Parental Guidance]',\n",
    "      'TV-Y -----> Children suited content[General Audience & Kids]',\n",
    "      'TV-Y7 -----> Children of age 7 and older[General Audience & Kids]',\n",
    "      'R -----> Strictly for Adults[Only for Adults]',\n",
    "      'TV-G -----> Suitable for all audiences[General Audience & Kids]',\n",
    "      'G -----> General Audience films[General Audience & Kids]',\n",
    "      'NC-17 -----> No one seventeen and under admitted[Only for Adults]',\n",
    "      'NR -----> Not rated movies[Not Rated]',\n",
    "      'TV-Y7-FV -----> Children of age 7 and older with fantasy violence[General Audience & Kids]',\n",
    "      'UR -----> Recut version of rated movie[Not Rated]', sep='\\n')\n",
    "\n",
    "# Filter the DataFrame to include only rows where the \"rating\" column is not null\n",
    "df_rating = data[data[\"rating\"].isnull() == False]\n",
    "df_rating.reset_index(inplace=True)\n",
    "\n",
    "# Create a figure with the specified size\n",
    "plt.figure(figsize=(20, 8))\n",
    "\n",
    "# Create a countplot to visualize the count of movies and TV shows by rating category\n",
    "sns.countplot(x=\"rating\", data=df_rating, hue=\"type\")\n",
    "\n",
    "# Display the plot\n",
    "plt.show()"
   ]
  },
  {
   "cell_type": "markdown",
   "id": "c7f5b952",
   "metadata": {},
   "source": [
    "Conclusion:\n",
    "1. Mostly TV shows and movies belong to the TV-MA and TV-14 rating categories.\n",
    "2. The majority of the content available on Netflix is targeted towards adults and teenagers."
   ]
  },
  {
   "cell_type": "code",
   "execution_count": 26,
   "id": "205ed126",
   "metadata": {},
   "outputs": [
    {
     "data": {
      "text/plain": [
       "Text(0.5, 1.0, 'Distribution of Content Added Over Years')"
      ]
     },
     "execution_count": 26,
     "metadata": {},
     "output_type": "execute_result"
    },
    {
     "data": {
      "image/png": "[encoded data removed]",
      "text/plain": [
       "<Figure size 1400x600 with 1 Axes>"
      ]
     },
     "metadata": {},
     "output_type": "display_data"
    }
   ],
   "source": [
    "# Grouping the content by release year and content type, and counting the occurrences\n",
    "df_yearwise_trend = pd.DataFrame(data.groupby([\"release_year\", \"type\"])[\"type\"].count())\n",
    "\n",
    "# Renaming the count column to \"type_count\" for clarity\n",
    "df_yearwise_trend.columns = [\"type_count\"]\n",
    "\n",
    "# Resetting the index to make the grouped columns accessible for plotting\n",
    "df_yearwise_trend.reset_index(inplace=True)\n",
    "\n",
    "# Creating a line plot to visualize the distribution of content added over the years\n",
    "plt.figure(figsize=(14, 6))\n",
    "sns.lineplot(x=\"release_year\", y=\"type_count\", data=df_yearwise_trend, hue=\"type\")\n",
    "plt.xticks(np.arange(1940, 2025, 10))\n",
    "plt.title(\"Distribution of Content Added Over Years\")"
   ]
  },
  {
   "cell_type": "markdown",
   "id": "d9906766",
   "metadata": {},
   "source": [
    "Conclusion :-\n",
    "1. In 2020 , maximum no. of TV shows are added followed by 2019 & 2021.\n",
    "2. More no of movies added on Netflix after \"2015\""
   ]
  },
  {
   "cell_type": "code",
   "execution_count": 27,
   "id": "44d8264c",
   "metadata": {},
   "outputs": [
    {
     "name": "stderr",
     "output_type": "stream",
     "text": [
      "C:\\Users\\aeccs\\AppData\\Local\\Temp\\ipykernel_22812\\3072331361.py:8: FutureWarning: \n",
      "\n",
      "Passing `palette` without assigning `hue` is deprecated and will be removed in v0.14.0. Assign the `y` variable to `hue` and set `legend=False` for the same effect.\n",
      "\n",
      "  sns.countplot(y=\"rating\", data=movies_ratingwise, palette=\"Blues_d\")\n"
     ]
    },
    {
     "data": {
      "image/png": "[encoded data removed]",
      "text/plain": [
       "<Figure size 1400x600 with 1 Axes>"
      ]
     },
     "metadata": {},
     "output_type": "display_data"
    }
   ],
   "source": [
    "# Define the figure size for the plot\n",
    "plt.figure(figsize=(14, 6))\n",
    "\n",
    "# Filter the DataFrame to include only movies and select the \"type\" and \"rating\" columns\n",
    "movies_ratingwise = data.loc[data[\"type\"] == \"Movie\", [\"type\", \"rating\"]]\n",
    "\n",
    "# Create a countplot to visualize the distribution of movies by rating category\n",
    "sns.countplot(y=\"rating\", data=movies_ratingwise, palette=\"Blues_d\")\n",
    "\n",
    "# Set the title of the plot\n",
    "plt.title(\"Movies Distribution Rating-wise\")\n",
    "\n",
    "# Display the plot\n",
    "plt.show()"
   ]
  },
  {
   "cell_type": "markdown",
   "id": "a667cc12",
   "metadata": {},
   "source": [
    "Conclusion:\n",
    "<LI> Most movies belong to the TV-MA and TV-14 rating categories."
   ]
  },
  {
   "cell_type": "code",
   "execution_count": 28,
   "id": "16717b44",
   "metadata": {},
   "outputs": [
    {
     "name": "stderr",
     "output_type": "stream",
     "text": [
      "C:\\Users\\aeccs\\AppData\\Local\\Temp\\ipykernel_22812\\2784379879.py:8: FutureWarning: \n",
      "\n",
      "Passing `palette` without assigning `hue` is deprecated and will be removed in v0.14.0. Assign the `y` variable to `hue` and set `legend=False` for the same effect.\n",
      "\n",
      "  sns.countplot(y=\"rating\", data=tvshows_ratingwise, palette=\"Blues_d\")\n"
     ]
    },
    {
     "data": {
      "image/png": "[encoded data removed]",
      "text/plain": [
       "<Figure size 1400x600 with 1 Axes>"
      ]
     },
     "metadata": {},
     "output_type": "display_data"
    }
   ],
   "source": [
    "# Define the figure size for the plot\n",
    "plt.figure(figsize=(14, 6))\n",
    "\n",
    "# Filter the DataFrame to include only TV shows and select the \"type\" and \"rating\" columns\n",
    "tvshows_ratingwise = data.loc[data[\"type\"] == \"TV Show\", [\"type\", \"rating\"]]\n",
    "\n",
    "# Create a countplot to visualize the distribution of TV shows by rating category\n",
    "sns.countplot(y=\"rating\", data=tvshows_ratingwise, palette=\"Blues_d\")\n",
    "\n",
    "# Set the title of the plot\n",
    "plt.title(\"TV Shows Distribution Rating-wise\")\n",
    "\n",
    "# Display the plot\n",
    "plt.show()"
   ]
  },
  {
   "cell_type": "markdown",
   "id": "105fc31d",
   "metadata": {},
   "source": [
    "Conclusion:\n",
    "<LI>Most TV shows belong to the TV-MA and TV-14 rating categories."
   ]
  },
  {
   "cell_type": "code",
   "execution_count": 29,
   "id": "94169f99",
   "metadata": {},
   "outputs": [
    {
     "data": {
      "text/html": [
       "<div>\n",
       "<style scoped>\n",
       "    .dataframe tbody tr th:only-of-type {\n",
       "        vertical-align: middle;\n",
       "    }\n",
       "\n",
       "    .dataframe tbody tr th {\n",
       "        vertical-align: top;\n",
       "    }\n",
       "\n",
       "    .dataframe thead th {\n",
       "        text-align: right;\n",
       "    }\n",
       "</style>\n",
       "<table border=\"1\" class=\"dataframe\">\n",
       "  <thead>\n",
       "    <tr style=\"text-align: right;\">\n",
       "      <th></th>\n",
       "      <th>show_id</th>\n",
       "      <th>type</th>\n",
       "      <th>title</th>\n",
       "      <th>director_x</th>\n",
       "      <th>cast</th>\n",
       "      <th>country</th>\n",
       "      <th>date_added</th>\n",
       "      <th>release_year</th>\n",
       "      <th>rating</th>\n",
       "      <th>duration</th>\n",
       "      <th>listed_in</th>\n",
       "      <th>description</th>\n",
       "      <th>director_y</th>\n",
       "    </tr>\n",
       "  </thead>\n",
       "  <tbody>\n",
       "    <tr>\n",
       "      <th>0</th>\n",
       "      <td>s1</td>\n",
       "      <td>Movie</td>\n",
       "      <td>Dick Johnson Is Dead</td>\n",
       "      <td>Kirsten Johnson</td>\n",
       "      <td>Unknown</td>\n",
       "      <td>United States</td>\n",
       "      <td>2021-09-25</td>\n",
       "      <td>2020</td>\n",
       "      <td>PG-13</td>\n",
       "      <td>90 min</td>\n",
       "      <td>Documentaries</td>\n",
       "      <td>As her father nears the end of his life, filmm...</td>\n",
       "      <td>Kirsten Johnson</td>\n",
       "    </tr>\n",
       "    <tr>\n",
       "      <th>1</th>\n",
       "      <td>s2</td>\n",
       "      <td>TV Show</td>\n",
       "      <td>Blood &amp; Water</td>\n",
       "      <td>Unknown</td>\n",
       "      <td>Ama Qamata, Khosi Ngema, Gail Mabalane, Thaban...</td>\n",
       "      <td>South Africa</td>\n",
       "      <td>2021-09-24</td>\n",
       "      <td>2021</td>\n",
       "      <td>TV-MA</td>\n",
       "      <td>2 Seasons</td>\n",
       "      <td>International TV Shows, TV Dramas, TV Mysteries</td>\n",
       "      <td>After crossing paths at a party, a Cape Town t...</td>\n",
       "      <td>Unknown</td>\n",
       "    </tr>\n",
       "    <tr>\n",
       "      <th>2</th>\n",
       "      <td>s3</td>\n",
       "      <td>TV Show</td>\n",
       "      <td>Ganglands</td>\n",
       "      <td>Julien Leclercq</td>\n",
       "      <td>Sami Bouajila, Tracy Gotoas, Samuel Jouy, Nabi...</td>\n",
       "      <td>Unknown</td>\n",
       "      <td>2021-09-24</td>\n",
       "      <td>2021</td>\n",
       "      <td>TV-MA</td>\n",
       "      <td>1 Season</td>\n",
       "      <td>Crime TV Shows, International TV Shows, TV Act...</td>\n",
       "      <td>To protect his family from a powerful drug lor...</td>\n",
       "      <td>Julien Leclercq</td>\n",
       "    </tr>\n",
       "    <tr>\n",
       "      <th>3</th>\n",
       "      <td>s4</td>\n",
       "      <td>TV Show</td>\n",
       "      <td>Jailbirds New Orleans</td>\n",
       "      <td>Unknown</td>\n",
       "      <td>Unknown</td>\n",
       "      <td>Unknown</td>\n",
       "      <td>2021-09-24</td>\n",
       "      <td>2021</td>\n",
       "      <td>TV-MA</td>\n",
       "      <td>1 Season</td>\n",
       "      <td>Docuseries, Reality TV</td>\n",
       "      <td>Feuds, flirtations and toilet talk go down amo...</td>\n",
       "      <td>Unknown</td>\n",
       "    </tr>\n",
       "  </tbody>\n",
       "</table>\n",
       "</div>"
      ],
      "text/plain": [
       "  show_id     type                  title       director_x  \\\n",
       "0      s1    Movie   Dick Johnson Is Dead  Kirsten Johnson   \n",
       "1      s2  TV Show          Blood & Water          Unknown   \n",
       "2      s3  TV Show              Ganglands  Julien Leclercq   \n",
       "3      s4  TV Show  Jailbirds New Orleans          Unknown   \n",
       "\n",
       "                                                cast        country  \\\n",
       "0                                            Unknown  United States   \n",
       "1  Ama Qamata, Khosi Ngema, Gail Mabalane, Thaban...   South Africa   \n",
       "2  Sami Bouajila, Tracy Gotoas, Samuel Jouy, Nabi...        Unknown   \n",
       "3                                            Unknown        Unknown   \n",
       "\n",
       "  date_added  release_year rating   duration  \\\n",
       "0 2021-09-25          2020  PG-13     90 min   \n",
       "1 2021-09-24          2021  TV-MA  2 Seasons   \n",
       "2 2021-09-24          2021  TV-MA   1 Season   \n",
       "3 2021-09-24          2021  TV-MA   1 Season   \n",
       "\n",
       "                                           listed_in  \\\n",
       "0                                      Documentaries   \n",
       "1    International TV Shows, TV Dramas, TV Mysteries   \n",
       "2  Crime TV Shows, International TV Shows, TV Act...   \n",
       "3                             Docuseries, Reality TV   \n",
       "\n",
       "                                         description       director_y  \n",
       "0  As her father nears the end of his life, filmm...  Kirsten Johnson  \n",
       "1  After crossing paths at a party, a Cape Town t...          Unknown  \n",
       "2  To protect his family from a powerful drug lor...  Julien Leclercq  \n",
       "3  Feuds, flirtations and toilet talk go down amo...          Unknown  "
      ]
     },
     "execution_count": 29,
     "metadata": {},
     "output_type": "execute_result"
    }
   ],
   "source": [
    "# Exploding the nested data in the \"director\" column\n",
    "director = data[\"director\"].apply(lambda x: str(x).split(\", \")).tolist()\n",
    "\n",
    "# Creating a DataFrame with exploded director data, using \"title\" as index\n",
    "df_director = pd.DataFrame(director, index=data[\"title\"])\n",
    "df_director = df_director.stack().reset_index()\n",
    "df_director.drop(columns=\"level_1\", inplace=True)\n",
    "df_director.columns = [\"title\", \"director\"]\n",
    "\n",
    "# Merging the exploded director data with the original DataFrame\n",
    "df_fav_director = data.merge(df_director, on=\"title\")\n",
    "df_fav_director.head(4)"
   ]
  },
  {
   "cell_type": "code",
   "execution_count": 30,
   "id": "10819ba7",
   "metadata": {},
   "outputs": [],
   "source": [
    "# Exploding the nested data in the \"country\" column\n",
    "country = data[\"country\"].apply(lambda x: str(x).split(\", \")).tolist()\n",
    "\n",
    "# Creating a DataFrame with exploded country data, using \"title\" as index\n",
    "df_country = pd.DataFrame(country, index=data[\"title\"])\n",
    "df_country = df_country.stack().reset_index()\n",
    "df_country.drop(columns=\"level_1\", inplace=True)\n",
    "df_country.columns = [\"title\", \"country\"]"
   ]
  },
  {
   "cell_type": "code",
   "execution_count": 31,
   "id": "5fb20cf0",
   "metadata": {},
   "outputs": [
    {
     "name": "stdout",
     "output_type": "stream",
     "text": [
      "Country_wise_trend columns: Index(['show_id', 'type', 'title', 'director', 'cast', 'date_added',\n",
      "       'release_year', 'rating', 'duration', 'listed_in', 'description',\n",
      "       'country'],\n",
      "      dtype='object')\n",
      "top10_country columns: Index(['count', 'count'], dtype='object')\n"
     ]
    },
    {
     "ename": "KeyError",
     "evalue": "'country'",
     "output_type": "error",
     "traceback": [
      "\u001b[1;31m---------------------------------------------------------------------------\u001b[0m",
      "\u001b[1;31mKeyError\u001b[0m                                  Traceback (most recent call last)",
      "\u001b[1;32m~\\AppData\\Local\\Temp\\ipykernel_22812\\2136130238.py\u001b[0m in \u001b[0;36m?\u001b[1;34m()\u001b[0m\n\u001b[0;32m     22\u001b[0m \u001b[1;31m# Checking the structure of the top10_country DataFrame\u001b[0m\u001b[1;33m\u001b[0m\u001b[1;33m\u001b[0m\u001b[0m\n\u001b[0;32m     23\u001b[0m \u001b[0mprint\u001b[0m\u001b[1;33m(\u001b[0m\u001b[1;34m\"top10_country columns:\"\u001b[0m\u001b[1;33m,\u001b[0m \u001b[0mtop10_country\u001b[0m\u001b[1;33m.\u001b[0m\u001b[0mcolumns\u001b[0m\u001b[1;33m)\u001b[0m\u001b[1;33m\u001b[0m\u001b[1;33m\u001b[0m\u001b[0m\n\u001b[0;32m     24\u001b[0m \u001b[1;33m\u001b[0m\u001b[0m\n\u001b[0;32m     25\u001b[0m \u001b[1;31m# Merging Country_wise_trend with top10_country based on the \"country\" column\u001b[0m\u001b[1;33m\u001b[0m\u001b[1;33m\u001b[0m\u001b[0m\n\u001b[1;32m---> 26\u001b[1;33m \u001b[0mCountry_wise_trend\u001b[0m \u001b[1;33m=\u001b[0m \u001b[0mCountry_wise_trend\u001b[0m\u001b[1;33m.\u001b[0m\u001b[0mmerge\u001b[0m\u001b[1;33m(\u001b[0m\u001b[0mtop10_country\u001b[0m\u001b[1;33m,\u001b[0m \u001b[0mhow\u001b[0m\u001b[1;33m=\u001b[0m\u001b[1;34m\"inner\"\u001b[0m\u001b[1;33m,\u001b[0m \u001b[0mon\u001b[0m\u001b[1;33m=\u001b[0m\u001b[1;34m\"country\"\u001b[0m\u001b[1;33m)\u001b[0m\u001b[1;33m\u001b[0m\u001b[1;33m\u001b[0m\u001b[0m\n\u001b[0m\u001b[0;32m     27\u001b[0m \u001b[1;33m\u001b[0m\u001b[0m\n\u001b[0;32m     28\u001b[0m \u001b[1;31m# Checking the structure of the merged DataFrame\u001b[0m\u001b[1;33m\u001b[0m\u001b[1;33m\u001b[0m\u001b[0m\n\u001b[0;32m     29\u001b[0m \u001b[0mprint\u001b[0m\u001b[1;33m(\u001b[0m\u001b[1;34m\"Merged DataFrame columns:\"\u001b[0m\u001b[1;33m,\u001b[0m \u001b[0mCountry_wise_trend\u001b[0m\u001b[1;33m.\u001b[0m\u001b[0mcolumns\u001b[0m\u001b[1;33m)\u001b[0m\u001b[1;33m\u001b[0m\u001b[1;33m\u001b[0m\u001b[0m\n",
      "\u001b[1;32m~\\anaconda3\\Lib\\site-packages\\pandas\\core\\frame.py\u001b[0m in \u001b[0;36m?\u001b[1;34m(self, right, how, on, left_on, right_on, left_index, right_index, sort, suffixes, copy, indicator, validate)\u001b[0m\n\u001b[0;32m  10828\u001b[0m         \u001b[0mvalidate\u001b[0m\u001b[1;33m:\u001b[0m \u001b[0mMergeValidate\u001b[0m \u001b[1;33m|\u001b[0m \u001b[1;32mNone\u001b[0m \u001b[1;33m=\u001b[0m \u001b[1;32mNone\u001b[0m\u001b[1;33m,\u001b[0m\u001b[1;33m\u001b[0m\u001b[1;33m\u001b[0m\u001b[0m\n\u001b[0;32m  10829\u001b[0m     ) -> DataFrame:\n\u001b[0;32m  10830\u001b[0m         \u001b[1;32mfrom\u001b[0m \u001b[0mpandas\u001b[0m\u001b[1;33m.\u001b[0m\u001b[0mcore\u001b[0m\u001b[1;33m.\u001b[0m\u001b[0mreshape\u001b[0m\u001b[1;33m.\u001b[0m\u001b[0mmerge\u001b[0m \u001b[1;32mimport\u001b[0m \u001b[0mmerge\u001b[0m\u001b[1;33m\u001b[0m\u001b[1;33m\u001b[0m\u001b[0m\n\u001b[0;32m  10831\u001b[0m \u001b[1;33m\u001b[0m\u001b[0m\n\u001b[1;32m> 10832\u001b[1;33m         return merge(\n\u001b[0m\u001b[0;32m  10833\u001b[0m             \u001b[0mself\u001b[0m\u001b[1;33m,\u001b[0m\u001b[1;33m\u001b[0m\u001b[1;33m\u001b[0m\u001b[0m\n\u001b[0;32m  10834\u001b[0m             \u001b[0mright\u001b[0m\u001b[1;33m,\u001b[0m\u001b[1;33m\u001b[0m\u001b[1;33m\u001b[0m\u001b[0m\n\u001b[0;32m  10835\u001b[0m             \u001b[0mhow\u001b[0m\u001b[1;33m=\u001b[0m\u001b[0mhow\u001b[0m\u001b[1;33m,\u001b[0m\u001b[1;33m\u001b[0m\u001b[1;33m\u001b[0m\u001b[0m\n",
      "\u001b[1;32m~\\anaconda3\\Lib\\site-packages\\pandas\\core\\reshape\\merge.py\u001b[0m in \u001b[0;36m?\u001b[1;34m(left, right, how, on, left_on, right_on, left_index, right_index, sort, suffixes, copy, indicator, validate)\u001b[0m\n\u001b[0;32m    166\u001b[0m             \u001b[0mvalidate\u001b[0m\u001b[1;33m=\u001b[0m\u001b[0mvalidate\u001b[0m\u001b[1;33m,\u001b[0m\u001b[1;33m\u001b[0m\u001b[1;33m\u001b[0m\u001b[0m\n\u001b[0;32m    167\u001b[0m             \u001b[0mcopy\u001b[0m\u001b[1;33m=\u001b[0m\u001b[0mcopy\u001b[0m\u001b[1;33m,\u001b[0m\u001b[1;33m\u001b[0m\u001b[1;33m\u001b[0m\u001b[0m\n\u001b[0;32m    168\u001b[0m         )\n\u001b[0;32m    169\u001b[0m     \u001b[1;32melse\u001b[0m\u001b[1;33m:\u001b[0m\u001b[1;33m\u001b[0m\u001b[1;33m\u001b[0m\u001b[0m\n\u001b[1;32m--> 170\u001b[1;33m         op = _MergeOperation(\n\u001b[0m\u001b[0;32m    171\u001b[0m             \u001b[0mleft_df\u001b[0m\u001b[1;33m,\u001b[0m\u001b[1;33m\u001b[0m\u001b[1;33m\u001b[0m\u001b[0m\n\u001b[0;32m    172\u001b[0m             \u001b[0mright_df\u001b[0m\u001b[1;33m,\u001b[0m\u001b[1;33m\u001b[0m\u001b[1;33m\u001b[0m\u001b[0m\n\u001b[0;32m    173\u001b[0m             \u001b[0mhow\u001b[0m\u001b[1;33m=\u001b[0m\u001b[0mhow\u001b[0m\u001b[1;33m,\u001b[0m\u001b[1;33m\u001b[0m\u001b[1;33m\u001b[0m\u001b[0m\n",
      "\u001b[1;32m~\\anaconda3\\Lib\\site-packages\\pandas\\core\\reshape\\merge.py\u001b[0m in \u001b[0;36m?\u001b[1;34m(self, left, right, how, on, left_on, right_on, left_index, right_index, sort, suffixes, indicator, validate)\u001b[0m\n\u001b[0;32m    790\u001b[0m             \u001b[0mself\u001b[0m\u001b[1;33m.\u001b[0m\u001b[0mright_join_keys\u001b[0m\u001b[1;33m,\u001b[0m\u001b[1;33m\u001b[0m\u001b[1;33m\u001b[0m\u001b[0m\n\u001b[0;32m    791\u001b[0m             \u001b[0mself\u001b[0m\u001b[1;33m.\u001b[0m\u001b[0mjoin_names\u001b[0m\u001b[1;33m,\u001b[0m\u001b[1;33m\u001b[0m\u001b[1;33m\u001b[0m\u001b[0m\n\u001b[0;32m    792\u001b[0m             \u001b[0mleft_drop\u001b[0m\u001b[1;33m,\u001b[0m\u001b[1;33m\u001b[0m\u001b[1;33m\u001b[0m\u001b[0m\n\u001b[0;32m    793\u001b[0m             \u001b[0mright_drop\u001b[0m\u001b[1;33m,\u001b[0m\u001b[1;33m\u001b[0m\u001b[1;33m\u001b[0m\u001b[0m\n\u001b[1;32m--> 794\u001b[1;33m         ) = self._get_merge_keys()\n\u001b[0m\u001b[0;32m    795\u001b[0m \u001b[1;33m\u001b[0m\u001b[0m\n\u001b[0;32m    796\u001b[0m         \u001b[1;32mif\u001b[0m \u001b[0mleft_drop\u001b[0m\u001b[1;33m:\u001b[0m\u001b[1;33m\u001b[0m\u001b[1;33m\u001b[0m\u001b[0m\n\u001b[0;32m    797\u001b[0m             \u001b[0mself\u001b[0m\u001b[1;33m.\u001b[0m\u001b[0mleft\u001b[0m \u001b[1;33m=\u001b[0m \u001b[0mself\u001b[0m\u001b[1;33m.\u001b[0m\u001b[0mleft\u001b[0m\u001b[1;33m.\u001b[0m\u001b[0m_drop_labels_or_levels\u001b[0m\u001b[1;33m(\u001b[0m\u001b[0mleft_drop\u001b[0m\u001b[1;33m)\u001b[0m\u001b[1;33m\u001b[0m\u001b[1;33m\u001b[0m\u001b[0m\n",
      "\u001b[1;32m~\\anaconda3\\Lib\\site-packages\\pandas\\core\\reshape\\merge.py\u001b[0m in \u001b[0;36m?\u001b[1;34m(self)\u001b[0m\n\u001b[0;32m   1293\u001b[0m                         \u001b[1;31m# Then we're either Hashable or a wrong-length arraylike,\u001b[0m\u001b[1;33m\u001b[0m\u001b[1;33m\u001b[0m\u001b[0m\n\u001b[0;32m   1294\u001b[0m                         \u001b[1;31m#  the latter of which will raise\u001b[0m\u001b[1;33m\u001b[0m\u001b[1;33m\u001b[0m\u001b[0m\n\u001b[0;32m   1295\u001b[0m                         \u001b[0mrk\u001b[0m \u001b[1;33m=\u001b[0m \u001b[0mcast\u001b[0m\u001b[1;33m(\u001b[0m\u001b[0mHashable\u001b[0m\u001b[1;33m,\u001b[0m \u001b[0mrk\u001b[0m\u001b[1;33m)\u001b[0m\u001b[1;33m\u001b[0m\u001b[1;33m\u001b[0m\u001b[0m\n\u001b[0;32m   1296\u001b[0m                         \u001b[1;32mif\u001b[0m \u001b[0mrk\u001b[0m \u001b[1;32mis\u001b[0m \u001b[1;32mnot\u001b[0m \u001b[1;32mNone\u001b[0m\u001b[1;33m:\u001b[0m\u001b[1;33m\u001b[0m\u001b[1;33m\u001b[0m\u001b[0m\n\u001b[1;32m-> 1297\u001b[1;33m                             \u001b[0mright_keys\u001b[0m\u001b[1;33m.\u001b[0m\u001b[0mappend\u001b[0m\u001b[1;33m(\u001b[0m\u001b[0mright\u001b[0m\u001b[1;33m.\u001b[0m\u001b[0m_get_label_or_level_values\u001b[0m\u001b[1;33m(\u001b[0m\u001b[0mrk\u001b[0m\u001b[1;33m)\u001b[0m\u001b[1;33m)\u001b[0m\u001b[1;33m\u001b[0m\u001b[1;33m\u001b[0m\u001b[0m\n\u001b[0m\u001b[0;32m   1298\u001b[0m                         \u001b[1;32melse\u001b[0m\u001b[1;33m:\u001b[0m\u001b[1;33m\u001b[0m\u001b[1;33m\u001b[0m\u001b[0m\n\u001b[0;32m   1299\u001b[0m                             \u001b[1;31m# work-around for merge_asof(right_index=True)\u001b[0m\u001b[1;33m\u001b[0m\u001b[1;33m\u001b[0m\u001b[0m\n\u001b[0;32m   1300\u001b[0m                             \u001b[0mright_keys\u001b[0m\u001b[1;33m.\u001b[0m\u001b[0mappend\u001b[0m\u001b[1;33m(\u001b[0m\u001b[0mright\u001b[0m\u001b[1;33m.\u001b[0m\u001b[0mindex\u001b[0m\u001b[1;33m.\u001b[0m\u001b[0m_values\u001b[0m\u001b[1;33m)\u001b[0m\u001b[1;33m\u001b[0m\u001b[1;33m\u001b[0m\u001b[0m\n",
      "\u001b[1;32m~\\anaconda3\\Lib\\site-packages\\pandas\\core\\generic.py\u001b[0m in \u001b[0;36m?\u001b[1;34m(self, key, axis)\u001b[0m\n\u001b[0;32m   1907\u001b[0m             \u001b[0mvalues\u001b[0m \u001b[1;33m=\u001b[0m \u001b[0mself\u001b[0m\u001b[1;33m.\u001b[0m\u001b[0mxs\u001b[0m\u001b[1;33m(\u001b[0m\u001b[0mkey\u001b[0m\u001b[1;33m,\u001b[0m \u001b[0maxis\u001b[0m\u001b[1;33m=\u001b[0m\u001b[0mother_axes\u001b[0m\u001b[1;33m[\u001b[0m\u001b[1;36m0\u001b[0m\u001b[1;33m]\u001b[0m\u001b[1;33m)\u001b[0m\u001b[1;33m.\u001b[0m\u001b[0m_values\u001b[0m\u001b[1;33m\u001b[0m\u001b[1;33m\u001b[0m\u001b[0m\n\u001b[0;32m   1908\u001b[0m         \u001b[1;32melif\u001b[0m \u001b[0mself\u001b[0m\u001b[1;33m.\u001b[0m\u001b[0m_is_level_reference\u001b[0m\u001b[1;33m(\u001b[0m\u001b[0mkey\u001b[0m\u001b[1;33m,\u001b[0m \u001b[0maxis\u001b[0m\u001b[1;33m=\u001b[0m\u001b[0maxis\u001b[0m\u001b[1;33m)\u001b[0m\u001b[1;33m:\u001b[0m\u001b[1;33m\u001b[0m\u001b[1;33m\u001b[0m\u001b[0m\n\u001b[0;32m   1909\u001b[0m             \u001b[0mvalues\u001b[0m \u001b[1;33m=\u001b[0m \u001b[0mself\u001b[0m\u001b[1;33m.\u001b[0m\u001b[0maxes\u001b[0m\u001b[1;33m[\u001b[0m\u001b[0maxis\u001b[0m\u001b[1;33m]\u001b[0m\u001b[1;33m.\u001b[0m\u001b[0mget_level_values\u001b[0m\u001b[1;33m(\u001b[0m\u001b[0mkey\u001b[0m\u001b[1;33m)\u001b[0m\u001b[1;33m.\u001b[0m\u001b[0m_values\u001b[0m\u001b[1;33m\u001b[0m\u001b[1;33m\u001b[0m\u001b[0m\n\u001b[0;32m   1910\u001b[0m         \u001b[1;32melse\u001b[0m\u001b[1;33m:\u001b[0m\u001b[1;33m\u001b[0m\u001b[1;33m\u001b[0m\u001b[0m\n\u001b[1;32m-> 1911\u001b[1;33m             \u001b[1;32mraise\u001b[0m \u001b[0mKeyError\u001b[0m\u001b[1;33m(\u001b[0m\u001b[0mkey\u001b[0m\u001b[1;33m)\u001b[0m\u001b[1;33m\u001b[0m\u001b[1;33m\u001b[0m\u001b[0m\n\u001b[0m\u001b[0;32m   1912\u001b[0m \u001b[1;33m\u001b[0m\u001b[0m\n\u001b[0;32m   1913\u001b[0m         \u001b[1;31m# Check for duplicates\u001b[0m\u001b[1;33m\u001b[0m\u001b[1;33m\u001b[0m\u001b[0m\n\u001b[0;32m   1914\u001b[0m         \u001b[1;32mif\u001b[0m \u001b[0mvalues\u001b[0m\u001b[1;33m.\u001b[0m\u001b[0mndim\u001b[0m \u001b[1;33m>\u001b[0m \u001b[1;36m1\u001b[0m\u001b[1;33m:\u001b[0m\u001b[1;33m\u001b[0m\u001b[1;33m\u001b[0m\u001b[0m\n",
      "\u001b[1;31mKeyError\u001b[0m: 'country'"
     ]
    }
   ],
   "source": [
    "import pandas as pd\n",
    "import matplotlib.pyplot as plt\n",
    "import seaborn as sns\n",
    "\n",
    "# Creating a new DataFrame by merging df_country and the original DataFrame\n",
    "Country_wise_trend = data.merge(df_country, on=\"title\")\n",
    "\n",
    "# Dropping the redundant \"country_x\" column and renaming \"country_y\" to \"country\"\n",
    "Country_wise_trend.drop(columns=\"country_x\", inplace=True)\n",
    "Country_wise_trend.rename(columns={\"country_y\": \"country\"}, inplace=True)\n",
    "\n",
    "# Filtering out rows with country as \"Unknown\"\n",
    "Country_wise_trend = Country_wise_trend.loc[Country_wise_trend[\"country\"] != \"Unknown\"]\n",
    "\n",
    "# Checking the structure of the Country_wise_trend DataFrame\n",
    "print(\"Country_wise_trend columns:\", Country_wise_trend.columns)\n",
    "\n",
    "# Counting the top 10 countries with the most entries\n",
    "top10_country = Country_wise_trend[\"country\"].value_counts().head(10).reset_index()\n",
    "top10_country.rename(columns={\"index\": \"country\", \"country\": \"count\"}, inplace=True)\n",
    "\n",
    "# Checking the structure of the top10_country DataFrame\n",
    "print(\"top10_country columns:\", top10_country.columns)\n",
    "\n",
    "# Merging Country_wise_trend with top10_country based on the \"country\" column\n",
    "Country_wise_trend = Country_wise_trend.merge(top10_country, how=\"inner\", on=\"country\")\n",
    "\n",
    "# Checking the structure of the merged DataFrame\n",
    "print(\"Merged DataFrame columns:\", Country_wise_trend.columns)\n",
    "\n",
    "# Creating a countplot to visualize the count of movies and TV shows country-wise\n",
    "plt.figure(figsize=(15, 8))\n",
    "sns.countplot(x=\"country\", data=Country_wise_trend, hue=\"type\")\n",
    "plt.title(\"Count of Movies and TV Shows Country-wise\")\n",
    "plt.show()\n"
   ]
  },
  {
   "cell_type": "markdown",
   "id": "8ebbcdb9",
   "metadata": {},
   "source": [
    "Conclusion :-\n",
    "1. Netflix should target to add more movies in Unites states and India as compare to TV Series.\n",
    "2. Netflix should target to add more TV shows in Japan and South Korea."
   ]
  },
  {
   "cell_type": "code",
   "execution_count": null,
   "id": "6e4f6408",
   "metadata": {},
   "outputs": [],
   "source": [
    "# Exploding the nested data in the \"listed_in\" column\n",
    "listed_in = data[\"listed_in\"].apply(lambda x: str(x).split(\", \")).tolist()\n",
    "\n",
    "# Creating a DataFrame with exploded genre data, using \"title\" as index\n",
    "df_genre = pd.DataFrame(listed_in, index=data[\"title\"])\n",
    "df_genre = df_genre.stack().reset_index()\n",
    "df_genre.drop(columns=\"level_1\", inplace=True)\n",
    "df_genre.columns = [\"title\", \"genre\"]"
   ]
  },
  {
   "cell_type": "code",
   "execution_count": null,
   "id": "d7c1c046",
   "metadata": {},
   "outputs": [],
   "source": [
    "# Set the figure size of the plot\n",
    "plt.figure(figsize=(18, 10))\n",
    "\n",
    "# Create a countplot to visualize the distribution of content genres\n",
    "# Set the y-axis to represent the \"genre\" column from the DataFrame df_genre\n",
    "# Set the data source as df_genre\n",
    "sns.countplot(y=\"genre\", data=df_genre)\n",
    "\n",
    "# Set the title of the plot\n",
    "plt.title(\"Distribution of Content Genre-wise\")\n",
    "\n",
    "# Display the plot\n",
    "plt.show()\n"
   ]
  },
  {
   "cell_type": "markdown",
   "id": "0574d82f",
   "metadata": {},
   "source": [
    "Most appearing category in netflix movies and TV shows are:-\n",
    "1. International Movies\n",
    "2. Dramas\n",
    "3. Comedies\n",
    "4. International TV show"
   ]
  },
  {
   "cell_type": "markdown",
   "id": "5c3e59a5",
   "metadata": {},
   "source": [
    "## Non-Graphical Analysis\n"
   ]
  },
  {
   "cell_type": "code",
   "execution_count": null,
   "id": "5c5cb85a",
   "metadata": {},
   "outputs": [],
   "source": [
    "# Merge the dataframes df_fav_director and df_country based on the \"title\" column\n",
    "director_countrywise = df_fav_director.merge(df_country, on=\"title\")\n",
    "\n",
    "# Drop the unnecessary columns \"director_x\" and \"country_x\"\n",
    "director_countrywise = director_countrywise.drop(columns=[\"director_x\", \"country_x\"])\n",
    "\n",
    "# Rename the columns \"director_y\" and \"country_y\" to \"director\" and \"country\", respectively\n",
    "director_countrywise.rename(columns={\"director_y\": \"director\", \"country_y\": \"country\"}, inplace=True)\n",
    "\n",
    "# Filter out rows with \"Unknown\" director values\n",
    "director_countrywise = director_countrywise.loc[director_countrywise[\"director\"] != \"Unknown\"]\n",
    "\n",
    "# Reset the index of the dataframe\n",
    "director_countrywise.reset_index(inplace=True)\n",
    "\n",
    "# Display the first few rows of the resulting dataframe\n",
    "director_countrywise.head()"
   ]
  },
  {
   "cell_type": "code",
   "execution_count": null,
   "id": "3e58ecfe",
   "metadata": {},
   "outputs": [],
   "source": [
    "# Get the top 6 countries based on the count of occurrences in the \"country\" column\n",
    "country = director_countrywise['country'].value_counts()[:6].index.tolist()\n",
    "\n",
    "# Print the header for the section\n",
    "print('Top 2 Directors of Top 5 Countries')\n",
    "print('\\n')\n",
    "\n",
    "# Iterate over each country in the list\n",
    "for val in country:\n",
    "    # Exclude \"Unknown\" countries\n",
    "    if val != 'Unknown':\n",
    "        print(f'**{val}**')  # Print the country name in bold\n",
    "        # Print the top 2 directors for the current country\n",
    "        print(director_countrywise.loc[director_countrywise['country']==val, 'director'].value_counts()[:2])\n",
    "        print('\\n')  # Print a new line after each country's information"
   ]
  },
  {
   "cell_type": "markdown",
   "id": "e0a13c21",
   "metadata": {},
   "source": [
    "Conclusion :\n",
    "1. Anurag Kashyap and David Dhawan are the most famous directors for Inida.\n",
    "2. Jay Karas and Marcus Raboyare the most famous directors in United States."
   ]
  },
  {
   "cell_type": "code",
   "execution_count": null,
   "id": "7bed5abb",
   "metadata": {},
   "outputs": [],
   "source": [
    "director_countrywise[\"director\"].value_counts().head(3)"
   ]
  },
  {
   "cell_type": "markdown",
   "id": "9c6b5d24",
   "metadata": {},
   "source": [
    "Conclusion :\n",
    "    <li>\"Rajiv Chilaka\" is the most famous director among all followed by Jan Suter"
   ]
  },
  {
   "cell_type": "code",
   "execution_count": null,
   "id": "6e07550b",
   "metadata": {},
   "outputs": [],
   "source": [
    "# Exploding the cast column\n",
    "\n",
    "# Splitting the values in the \"cast\" column by comma and converting it to a list\n",
    "cast = data[\"cast\"].apply(lambda x: str(x).split(\", \")).tolist()\n",
    "\n",
    "# Creating a new DataFrame \"df_cast\" with the exploded cast values, using \"title\" as the index\n",
    "df_cast = pd.DataFrame(cast, index=data[\"title\"])\n",
    "\n",
    "# Stacking the exploded values into a single column\n",
    "df_cast = df_cast.stack()\n",
    "\n",
    "# Resetting the index to obtain the original column names\n",
    "df_cast = df_cast.reset_index()\n",
    "\n",
    "# Dropping the unnecessary \"level_1\" column\n",
    "df_cast.drop(columns=\"level_1\", inplace=True)\n",
    "\n",
    "# Renaming the columns to \"title\" and \"cast\"\n",
    "df_cast.columns = [\"title\", \"cast\"]\n",
    "\n",
    "# Merging the original DataFrame \"df\" with the exploded cast DataFrame \"df_cast\" based on the \"title\" column\n",
    "df_fav_cast = data.merge(df_cast, on=\"title\")"
   ]
  },
  {
   "cell_type": "code",
   "execution_count": null,
   "id": "c0dcc6f9",
   "metadata": {},
   "outputs": [],
   "source": [
    "# Merging the DataFrame \"df_fav_cast\" with the DataFrame \"df_country\" based on the \"title\" column\n",
    "cast_countrywise = df_fav_cast.merge(df_country, on=\"title\")\n",
    "\n",
    "# Dropping the columns \"cast_x\" and \"country_x\" from the merged DataFrame\n",
    "cast_countrywise = cast_countrywise.drop(columns=[\"cast_x\", \"country_x\"])\n",
    "\n",
    "# Renaming the columns \"cast_y\" and \"country_y\" to \"cast\" and \"country\" respectively\n",
    "cast_countrywise = cast_countrywise.rename(columns={\"cast_y\": \"cast\", \"country_y\": \"country\"})\n",
    "\n",
    "# Creating a new DataFrame by dropping all rows where the cast value is \"Unknown\" and resetting the index\n",
    "cast_countrywise = cast_countrywise.loc[cast_countrywise[\"cast\"] != \"Unknown\"].reset_index()\n",
    "\n",
    "# Displaying the first few rows of the resulting DataFrame\n",
    "cast_countrywise.head()"
   ]
  },
  {
   "cell_type": "code",
   "execution_count": null,
   "id": "fbaaa501",
   "metadata": {},
   "outputs": [],
   "source": [
    "# Extracting the top 6 countries based on the count of occurrences in the 'country' column\n",
    "country_actor = cast_countrywise['country'].value_counts()[:6].index.tolist()\n",
    "\n",
    "print('Top 2 Actors of Top 5 Countries')\n",
    "print('\\n')\n",
    "\n",
    "# Iterating over each country in the 'country_actor' list\n",
    "for country in country_actor:\n",
    "    if country != 'Unknown':\n",
    "        print(f'--{country}--')\n",
    "        \n",
    "        # Printing the top 2 actors for the current country based on the count of occurrences in the 'cast' column\n",
    "        print(cast_countrywise.loc[cast_countrywise['country'] == country, 'cast'].value_counts()[:2])\n",
    "        \n",
    "        print('\\n')"
   ]
  },
  {
   "cell_type": "markdown",
   "id": "5d504983",
   "metadata": {},
   "source": [
    "Conclusion :-\n",
    "1. These are the top two cast of these countires.\n",
    "2. Netflix has added more content for India in which cast are- Anupam Kher or Shah Rukh Khan."
   ]
  },
  {
   "cell_type": "code",
   "execution_count": null,
   "id": "1ebd177e",
   "metadata": {},
   "outputs": [],
   "source": [
    "# Computing the value counts of the 'cast' column in the 'cast_countrywise' DataFrame to get the most famous actors\n",
    "most_famous_actors = cast_countrywise[\"cast\"].value_counts().head(5)\n",
    "\n",
    "# Printing the result\n",
    "print(\"Most Famous Actors:\")\n",
    "print(most_famous_actors)"
   ]
  },
  {
   "cell_type": "code",
   "execution_count": null,
   "id": "e626241d",
   "metadata": {},
   "outputs": [],
   "source": [
    "# Merging the DataFrame \"df\" with the DataFrame \"df_country\" based on the \"title\" column\n",
    "df_trend_country = data.merge(df_country, on=\"title\")\n",
    "\n",
    "# Dropping the \"country_x\" column from the merged DataFrame\n",
    "df_trend_country.drop(columns=\"country_x\", inplace=True)\n",
    "\n",
    "# Renaming the \"country_y\" column to \"country\" in the merged DataFrame\n",
    "df_trend_country.rename(columns={\"country_y\": \"country\"}, inplace=True)"
   ]
  },
  {
   "cell_type": "code",
   "execution_count": null,
   "id": "0500fa72",
   "metadata": {},
   "outputs": [],
   "source": [
    "df_trend_country"
   ]
  },
  {
   "cell_type": "code",
   "execution_count": null,
   "id": "ca3b2f6b",
   "metadata": {},
   "outputs": [],
   "source": [
    "# Computing the value counts of the 'country' column in the 'df_trend_country' DataFrame to get the top 11 countries\n",
    "temp = df_trend_country['country'].value_counts()[:11].reset_index()\n",
    "# Converting the 'country' column of the 'temp' DataFrame to a list\n",
    "country_list = temp['country'].tolist()\n",
    "\n",
    "# Filtering the 'df_trend_country' DataFrame to keep only rows where the 'country' value is in the 'country_list'\n",
    "df_top10country = df_trend_country.loc[df_trend_country['country'].isin(country_list)]\n",
    "\n",
    "# Dropping rows where the 'country' value is \"Unknown\"\n",
    "df_top10country = df_top10country.loc[df_top10country[\"country\"] != \"Unknown\"]"
   ]
  },
  {
   "cell_type": "code",
   "execution_count": null,
   "id": "c8fab98c",
   "metadata": {},
   "outputs": [],
   "source": [
    "# Grouping the 'df_top10country' DataFrame by \"country\" and \"rating\" columns and computing the value counts\n",
    "heat_rating = df_top10country.groupby([\"country\", \"rating\"]).size().reset_index(name=\"count\")\n",
    "\n",
    "# Reshaping the DataFrame to have \"country\" as rows, \"rating\" as columns, and the counts as values\n",
    "heat_rating = heat_rating.pivot(index=\"country\", columns=\"rating\", values=\"count\")\n",
    "\n",
    "# Creating a figure with a size of 12x8 inches\n",
    "plt.figure(figsize=(12, 8))\n",
    "\n",
    "# Creating a heatmap using seaborn, with annotations and the \"Blues\" colormap\n",
    "sns.heatmap(heat_rating, annot=True, cmap=\"Blues\")\n",
    "\n",
    "# Adding a title to the plot\n",
    "plt.title(\"Distribution of content available in different countries rating-wise\")\n",
    "\n",
    "# Displaying the plot\n",
    "plt.show()\n"
   ]
  },
  {
   "cell_type": "markdown",
   "id": "e2289d31",
   "metadata": {},
   "source": [
    "Conclusion :-\n",
    "1. Top 10 countries are having most content that belongs to TV-MA (Adults Category)\n",
    "2. India and United States are having large content in TV-14 category.\n",
    "3. United Kingdom and United States are having large content in R category."
   ]
  },
  {
   "cell_type": "code",
   "execution_count": null,
   "id": "501e3a52",
   "metadata": {},
   "outputs": [],
   "source": [
    "# Merging the 'df_trend_country' DataFrame with the 'df_genre' DataFrame based on the \"title\" column\n",
    "genre_country_df = df_trend_country.merge(df_genre, on=\"title\")\n",
    "\n",
    "# Displaying the first 5 rows of the merged DataFrame\n",
    "genre_country_df.head(5)"
   ]
  },
  {
   "cell_type": "code",
   "execution_count": null,
   "id": "26d4b5bd",
   "metadata": {},
   "outputs": [],
   "source": [
    "# Computing the value counts of the 'genre' column in the 'genre_country_df' DataFrame to get the top 10 genres\n",
    "temp_genre = genre_country_df['genre'].value_counts()[:10].reset_index()\n",
    "\n",
    "# Renaming the columns to 'genre' and 'count' respectively\n",
    "# temp_genre.rename(columns={'index': 'genre', 'genre': 'count'}, inplace=True)\n",
    "\n",
    "# Converting the 'genre' column of the 'temp_genre' DataFrame to a list named 'genre_list'\n",
    "genre_list = temp_genre['genre'].tolist()\n",
    "\n",
    "# Filtering the 'genre_country_df' DataFrame to keep only rows where the 'genre' value is in the 'genre_list'\n",
    "df_top10_genre = genre_country_df.loc[genre_country_df['genre'].isin(genre_list)]\n",
    "\n",
    "# Displaying the first 5 rows of the filtered DataFrame\n",
    "df_top10_genre.head()\n"
   ]
  },
  {
   "cell_type": "code",
   "execution_count": null,
   "id": "1256c235",
   "metadata": {},
   "outputs": [],
   "source": [
    "# Filtering the 'df_top10_genre' DataFrame to exclude rows where the 'country' value is 'Unknown'\n",
    "df_top10_genre = df_top10_genre.loc[df_top10_genre[\"country\"] != \"Unknown\"]\n",
    "\n",
    "# Computing the value counts of the 'country' column in the 'df_top10_genre' DataFrame for the top 10 countries\n",
    "country_counts = df_top10_genre[\"country\"].value_counts()[:10]\n",
    "\n",
    "# Displaying the top 10 countries with their respective counts\n",
    "country_counts.head(10)\n",
    "\n",
    "# Computing the value counts of the 'country' column in the 'df_top10_genre' DataFrame for the top 10 countries\n",
    "temp_c = df_top10_genre[\"country\"].value_counts()[:10].reset_index()\n",
    "\n",
    "# Renaming the columns to 'country' and 'count' respectively\n",
    "# temp_c.rename(columns={'index': 'country', 'country': 'count'}, inplace=True)\n",
    "\n",
    "# Converting the 'country' column of the 'temp_c' DataFrame to a list named 'country_list'\n",
    "country_list = temp_c[\"country\"].tolist()\n",
    "\n",
    "# Filtering the 'df_top10_genre' DataFrame to keep only rows where the 'country' value is in the 'country_list'\n",
    "df_top10_genre_countrywise = df_top10_genre.loc[df_top10_genre['country'].isin(country_list)]\n",
    "\n",
    "# Displaying the first 5 rows of the filtered DataFrame\n",
    "df_top10_genre_countrywise.head()\n",
    "\n",
    "# Creating a DataFrame 'heat_genre' by grouping 'df_top10_genre_countrywise' by \"genre\" and \"country\" columns and computing the value counts\n",
    "heat_genre = pd.DataFrame(df_top10_genre_countrywise.groupby(\"genre\")[\"country\"].value_counts())\n",
    "\n",
    "# Renaming the \"country\" column to \"count\"\n",
    "heat_genre.rename(columns={\"country\": \"count\"}, inplace=True)\n",
    "\n",
    "# Resetting the index of the 'heat_genre' DataFrame\n",
    "heat_genre.reset_index(inplace=True)\n",
    "\n",
    "# Reshaping the DataFrame to have \"genre\" as rows, \"country\" as columns, and the counts as values\n",
    "# heat_genre_final = heat_genre.pivot(\"genre\", \"country\", \"count\")\n",
    "heat_genre_final = heat_genre.pivot(index=\"genre\", columns=\"country\", values=\"count\")\n",
    "\n",
    "# Creating a figure with a size of 12x8 inches\n",
    "plt.figure(figsize=(12, 8))\n",
    "\n",
    "# Creating a heatmap using seaborn, with annotations and the \"Blues\" colormap\n",
    "sns.heatmap(heat_genre_final, annot=True, cmap=\"Blues\")\n",
    "\n",
    "# Adding a title to the plot\n",
    "plt.title(\"Top 10 genres of 10 different countries\")\n",
    "\n",
    "# Displaying the plot\n",
    "plt.show()"
   ]
  },
  {
   "cell_type": "markdown",
   "id": "502245f6",
   "metadata": {},
   "source": [
    "## Conclusion :-\n",
    "1. For India, netflix should add more content of genre International movies , Comedies and Dramas.\n",
    "2. For United States , Netflix should add more content of genre Dramas and Comedy.\n",
    "3. For Canada, Netflix should add more content of genre Dramas & Children and family movies."
   ]
  },
  {
   "cell_type": "markdown",
   "id": "c12e2f1e",
   "metadata": {},
   "source": [
    "## Summary:\n",
    "1. Netflix added more movies compared to TV shows.\n",
    "2. Content for the United States on Netflix is the highest among other countries.\n",
    "3. Netflix content is mostly available for adults only.\n",
    "4. The most popular genres in recent years are International movies, Dramas, Comedies, International TV Shows, and Action & Adventure.\n",
    "5. In 2021, there was a significant drop in content added due to the COVID-19 pandemic.\n",
    "6. The majority of Netflix viewers are from the United States, followed by India and the United Kingdom."
   ]
  },
  {
   "cell_type": "markdown",
   "id": "61906a91",
   "metadata": {},
   "source": [
    "## Movies:\n",
    "1. Movies are more popular in the United States, India, and the United Kingdom compared to other countries.\n",
    "2. Almost the same number of movies are added to Netflix every month.\n",
    "3. The majority of movies have a duration of \"100 min.\"\n",
    "4. The top people casted in movies are from India.\n",
    "5. \"Rajiv Chilakaa\" is the most famous director among all."
   ]
  },
  {
   "cell_type": "markdown",
   "id": "9a9db5ff",
   "metadata": {},
   "source": [
    "## TV Shows:\n",
    "1. TV shows mostly have Season 1 and Season 2.\n",
    "2. For Japan and South Korea, Netflix should focus more on TV shows compared to movies."
   ]
  },
  {
   "cell_type": "markdown",
   "id": "9137dfce",
   "metadata": {},
   "source": [
    "# Recommendations:\n",
    "## Movies:\n",
    "1. Preferred movie duration is between 90-100 minutes.\n",
    "2. Netflix should add more movies for the United States and India falling in the category of International movies and comedies.\n",
    "3. Netflix should add more movies for the United States and India with ratings of TV-MA & TV-14.\n",
    "4. The top three countries where movies are added are the United States, India, and the United Kingdom.\n",
    "5. Netflix should release TV shows on Fridays rather than any other weekday.\n",
    "\n",
    "## TV Shows:\n",
    "1. Preferred TV show duration is 1-2 seasons.\n",
    "2. Netflix should focus on countries like Japan, South Korea, and France for TV shows, as they prefer TV shows over movies.\n",
    "3. Netflix should release TV shows on Fridays rather than other weekdays.\n",
    "4. As per the 2021 data, the count of TV shows is higher than movies, indicating that people want more web-series as they have more leisure time, possibly due to the work-from-home scenario."
   ]
  },
  {
   "cell_type": "code",
   "execution_count": null,
   "id": "b656f3a8",
   "metadata": {},
   "outputs": [],
   "source": []
  },
  {
   "cell_type": "code",
   "execution_count": null,
   "id": "527b6e7b",
   "metadata": {},
   "outputs": [],
   "source": []
  },
  {
   "cell_type": "code",
   "execution_count": null,
   "id": "429fa61d",
   "metadata": {},
   "outputs": [],
   "source": []
  },
  {
   "cell_type": "code",
   "execution_count": null,
   "id": "b1d0f4b9",
   "metadata": {},
   "outputs": [],
   "source": []
  }
 ],
 "metadata": {
  "kernelspec": {
   "display_name": "Python 3 (ipykernel)",
   "language": "python",
   "name": "python3"
  },
  "language_info": {
   "codemirror_mode": {
    "name": "ipython",
    "version": 3
   },
   "file_extension": ".py",
   "mimetype": "text/x-python",
   "name": "python",
   "nbconvert_exporter": "python",
   "pygments_lexer": "ipython3",
   "version": "3.11.5"
  }
 },
 "nbformat": 4,
 "nbformat_minor": 5
}
